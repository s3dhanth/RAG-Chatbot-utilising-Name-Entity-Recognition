{
 "cells": [
  {
   "cell_type": "code",
   "execution_count": 76,
   "metadata": {},
   "outputs": [],
   "source": [
    "import pandas as pd\n",
    "import numpy as np\n",
    "from langchain.document_loaders.pdf import PyPDFDirectoryLoader"
   ]
  },
  {
   "cell_type": "code",
   "execution_count": 77,
   "metadata": {},
   "outputs": [],
   "source": [
    "DATA_PATH = r'C:\\QpiAi'"
   ]
  },
  {
   "cell_type": "code",
   "execution_count": 5,
   "metadata": {},
   "outputs": [
    {
     "data": {
      "text/plain": [
       "103"
      ]
     },
     "execution_count": 5,
     "metadata": {},
     "output_type": "execute_result"
    }
   ],
   "source": [
    "def load_documents():\n",
    "    document_loader = PyPDFDirectoryLoader(DATA_PATH)\n",
    "    return document_loader.load()\n",
    "document = load_documents()\n",
    "len(document)"
   ]
  },
  {
   "cell_type": "code",
   "execution_count": 6,
   "metadata": {},
   "outputs": [],
   "source": [
    "from langchain_text_splitters import RecursiveCharacterTextSplitter"
   ]
  },
  {
   "cell_type": "code",
   "execution_count": 7,
   "metadata": {},
   "outputs": [
    {
     "data": {
      "text/plain": [
       "262"
      ]
     },
     "execution_count": 7,
     "metadata": {},
     "output_type": "execute_result"
    }
   ],
   "source": [
    "def split_documents(documents: list[document]):\n",
    "    text_splitter = RecursiveCharacterTextSplitter(\n",
    "        chunk_size=1700,\n",
    "        chunk_overlap=170,\n",
    "        length_function=len,\n",
    "        is_separator_regex=False,\n",
    "    )\n",
    "    return text_splitter.split_documents(documents)\n",
    "doc = split_documents(document)\n",
    "len(doc)"
   ]
  },
  {
   "cell_type": "code",
   "execution_count": 78,
   "metadata": {},
   "outputs": [],
   "source": [
    "stored_meta = pd.read_csv('arxiv_metadata.csv')"
   ]
  },
  {
   "cell_type": "code",
   "execution_count": 79,
   "metadata": {},
   "outputs": [
    {
     "data": {
      "text/html": [
       "<div>\n",
       "<style scoped>\n",
       "    .dataframe tbody tr th:only-of-type {\n",
       "        vertical-align: middle;\n",
       "    }\n",
       "\n",
       "    .dataframe tbody tr th {\n",
       "        vertical-align: top;\n",
       "    }\n",
       "\n",
       "    .dataframe thead th {\n",
       "        text-align: right;\n",
       "    }\n",
       "</style>\n",
       "<table border=\"1\" class=\"dataframe\">\n",
       "  <thead>\n",
       "    <tr style=\"text-align: right;\">\n",
       "      <th></th>\n",
       "      <th>arxiv_id</th>\n",
       "      <th>Author</th>\n",
       "      <th>Title</th>\n",
       "      <th>Abstract</th>\n",
       "      <th>publication_date</th>\n",
       "    </tr>\n",
       "  </thead>\n",
       "  <tbody>\n",
       "    <tr>\n",
       "      <th>0</th>\n",
       "      <td>2409.18128</td>\n",
       "      <td>Wenliang Zhao, Minglei Shi, Xumin Yu, Jie Zhou...</td>\n",
       "      <td>FlowTurbo: Towards Real-time Flow-Based Image ...</td>\n",
       "      <td>Building on the success of diffusion models in...</td>\n",
       "      <td>2024-09</td>\n",
       "    </tr>\n",
       "    <tr>\n",
       "      <th>1</th>\n",
       "      <td>2409.18127</td>\n",
       "      <td>Fangzhou Hong, Vladimir Guzov, Hyo Jin Kim, Yu...</td>\n",
       "      <td>EgoLM: Multi-Modal Language Model of Egocentri...</td>\n",
       "      <td>As the prevalence of wearable devices, learnin...</td>\n",
       "      <td>2024-09</td>\n",
       "    </tr>\n",
       "    <tr>\n",
       "      <th>2</th>\n",
       "      <td>2409.18125</td>\n",
       "      <td>Chenming Zhu, Tai Wang, Wenwei Zhang, Jiangmia...</td>\n",
       "      <td>LLaVA-3D: A Simple yet Effective Pathway to Em...</td>\n",
       "      <td>Recent advancements in Large Multimodal Models...</td>\n",
       "      <td>2024-09</td>\n",
       "    </tr>\n",
       "    <tr>\n",
       "      <th>3</th>\n",
       "      <td>2409.18124</td>\n",
       "      <td>Jing He, Haodong Li, Wei Yin, Yixun Liang, Leh...</td>\n",
       "      <td>Lotus: Diffusion-based Visual Foundation Model...</td>\n",
       "      <td>Leveraging the visual priors of pre-trained te...</td>\n",
       "      <td>2024-09</td>\n",
       "    </tr>\n",
       "    <tr>\n",
       "      <th>4</th>\n",
       "      <td>2409.18119</td>\n",
       "      <td>Yuexi Du, John Onofrey, Nicha C. Dvornek</td>\n",
       "      <td>Multi-View and Multi-Scale Alignment for Contr...</td>\n",
       "      <td>Contrastive Language-Image Pre-training (CLIP)...</td>\n",
       "      <td>2024-09</td>\n",
       "    </tr>\n",
       "  </tbody>\n",
       "</table>\n",
       "</div>"
      ],
      "text/plain": [
       "     arxiv_id                                             Author  \\\n",
       "0  2409.18128  Wenliang Zhao, Minglei Shi, Xumin Yu, Jie Zhou...   \n",
       "1  2409.18127  Fangzhou Hong, Vladimir Guzov, Hyo Jin Kim, Yu...   \n",
       "2  2409.18125  Chenming Zhu, Tai Wang, Wenwei Zhang, Jiangmia...   \n",
       "3  2409.18124  Jing He, Haodong Li, Wei Yin, Yixun Liang, Leh...   \n",
       "4  2409.18119           Yuexi Du, John Onofrey, Nicha C. Dvornek   \n",
       "\n",
       "                                               Title  \\\n",
       "0  FlowTurbo: Towards Real-time Flow-Based Image ...   \n",
       "1  EgoLM: Multi-Modal Language Model of Egocentri...   \n",
       "2  LLaVA-3D: A Simple yet Effective Pathway to Em...   \n",
       "3  Lotus: Diffusion-based Visual Foundation Model...   \n",
       "4  Multi-View and Multi-Scale Alignment for Contr...   \n",
       "\n",
       "                                            Abstract publication_date  \n",
       "0  Building on the success of diffusion models in...          2024-09  \n",
       "1  As the prevalence of wearable devices, learnin...          2024-09  \n",
       "2  Recent advancements in Large Multimodal Models...          2024-09  \n",
       "3  Leveraging the visual priors of pre-trained te...          2024-09  \n",
       "4  Contrastive Language-Image Pre-training (CLIP)...          2024-09  "
      ]
     },
     "execution_count": 79,
     "metadata": {},
     "output_type": "execute_result"
    }
   ],
   "source": [
    "stored_meta"
   ]
  },
  {
   "cell_type": "code",
   "execution_count": 10,
   "metadata": {},
   "outputs": [],
   "source": [
    "def calculate_chunk_ids(chunks):\n",
    "    # This will create IDs like \"data/monopoly.pdf:6:2\"\n",
    "    # Page Source : Page Number : Chunk Index\n",
    "    last_page_id = None\n",
    "    current_chunk_index = 0\n",
    "\n",
    "    for chunk in chunks:\n",
    "        source = chunk.metadata.get(\"source\")\n",
    "        page = chunk.metadata.get(\"page\")\n",
    "        current_page_id = f\"{source}:{page}\"\n",
    "\n",
    "        # If the page ID is the same as the last one, increment the index.\n",
    "        if current_page_id == last_page_id:\n",
    "            current_chunk_index += 1\n",
    "        else:\n",
    "            current_chunk_index = 0\n",
    "\n",
    "        # Calculate the chunk ID.\n",
    "        chunk_id = f\"{current_page_id}:{current_chunk_index}\"\n",
    "        last_page_id = current_page_id\n",
    "\n",
    "        # Add it to the page meta-data.\n",
    "        chunk.metadata[\"id\"] = chunk_id\n",
    "\n",
    "    return chunks"
   ]
  },
  {
   "cell_type": "code",
   "execution_count": 11,
   "metadata": {},
   "outputs": [],
   "source": [
    "def metadata_adding(doc, stored_meta):\n",
    "    document = doc\n",
    "    stored_metadata = stored_meta\n",
    "\n",
    "    for doc in document:\n",
    "        # Extract the paper ID from the source filename\n",
    "        source_path = doc.metadata['source']\n",
    "        \n",
    "        # Find the corresponding metadata entry using pandas DataFrame filtering\n",
    "        matching_metadata = stored_metadata[\n",
    "            stored_metadata['arxiv_id'].astype(str).str.contains(\n",
    "                source_path.split('_')[-1].replace('.pdf', '')\n",
    "            )\n",
    "        ]\n",
    "\n",
    "        if not matching_metadata.empty:\n",
    "            # Access values from the matching metadata entry\n",
    "            author = matching_metadata.iloc[0]['Author']\n",
    "            publication_date = matching_metadata.iloc[0]['publication_date']\n",
    "            \n",
    "            # Add the author and publication_date directly to the chunk's metadata\n",
    "            doc.metadata['Author'] = author\n",
    "            doc.metadata['publication_date'] = publication_date\n",
    "\n",
    "    return document  # Return the document with the updated metadata"
   ]
  },
  {
   "cell_type": "code",
   "execution_count": 81,
   "metadata": {},
   "outputs": [],
   "source": [
    "from sentence_transformers import SentenceTransformer"
   ]
  },
  {
   "cell_type": "code",
   "execution_count": 82,
   "metadata": {},
   "outputs": [
    {
     "name": "stderr",
     "output_type": "stream",
     "text": [
      "c:\\Users\\ashut\\AppData\\Local\\Programs\\Python\\Python310\\lib\\site-packages\\huggingface_hub\\file_download.py:1150: FutureWarning: `resume_download` is deprecated and will be removed in version 1.0.0. Downloads always resume when possible. If you want to force a new download, use `force_download=True`.\n",
      "  warnings.warn(\n"
     ]
    }
   ],
   "source": [
    "model = SentenceTransformer('all-MiniLM-L6-v2')"
   ]
  },
  {
   "cell_type": "code",
   "execution_count": 80,
   "metadata": {},
   "outputs": [],
   "source": [
    "api_key = 'd7204d21-cb62-4544-b49c-9169b420c0e1'"
   ]
  },
  {
   "cell_type": "code",
   "execution_count": 15,
   "metadata": {},
   "outputs": [],
   "source": [
    "import time\n",
    "from pinecone import Pinecone, ServerlessSpec\n",
    "from pinecone.exceptions import PineconeApiException"
   ]
  },
  {
   "cell_type": "code",
   "execution_count": null,
   "metadata": {},
   "outputs": [],
   "source": [
    "def add_to_pinecone(chunks: list[document]):\n",
    "    pc = Pinecone(api_key=api_key)\n",
    "    index_name = 'embeddings6'\n",
    "\n",
    "    # Initialize Pinecone\n",
    "    try:\n",
    "        if index_name not in pc.list_indexes():\n",
    "            pc.create_index(name=index_name, dimension=384, spec=ServerlessSpec(\n",
    "                cloud=\"aws\",\n",
    "                region=\"us-east-1\"))\n",
    "            print('✅ Creating new index')\n",
    "    except PineconeApiException as e:\n",
    "        print(f'✅ Index \"{index_name}\" already exists')\n",
    "\n",
    "    # Connect to the existing index\n",
    "    index = pc.Index(index_name)\n",
    "\n",
    "    # Calculate Page IDs.\n",
    "    chunks_with_ids = calculate_chunk_ids(chunks)\n",
    "    chunks_with_ids = metadata_adding(chunks_with_ids, stored_meta)\n",
    "\n",
    "    # Fetch existing IDs\n",
    "    existing_ids = set()\n",
    "    ids_to_check = [chunk.metadata[\"id\"] for chunk in chunks_with_ids]\n",
    "\n",
    "    try:\n",
    "        fetch_response = index.fetch(ids=ids_to_check)\n",
    "        if fetch_response and 'vectors' in fetch_response:\n",
    "\n",
    "            existing_ids = set(fetch_response['vectors'].keys())\n",
    "    except Exception as e:\n",
    "        print(f\"Error fetching existing IDs: {e}\")\n",
    "\n",
    "    print(f\"Number of existing documents in DB: {len(existing_ids)}\")\n",
    "\n",
    "    # Check for new chunks\n",
    "    new_chunks = []\n",
    "    for chunk in chunks_with_ids:\n",
    "        if chunk.metadata[\"id\"] not in existing_ids:\n",
    "            new_chunks.append(chunk)\n",
    "        else:\n",
    "            print(f\"Duplicate found for ID: {chunk.metadata['id']} - not adding.\")\n",
    "\n",
    "    if len(new_chunks):\n",
    "        print(f\"👉 Adding new documents: {len(new_chunks)}\")\n",
    "\n",
    "        # Prepare all new chunks for upsert\n",
    "        new_chunk_ids = [chunk.metadata[\"id\"] for chunk in new_chunks]\n",
    "        batch_texts = [str(chunk.page_content) for chunk in new_chunks]  # Force conversion to str\n",
    "        embedded_texts = [model.encode(text) for text in batch_texts]  # Get embeddings\n",
    "        \n",
    "        vectors_with_metadata = []\n",
    "        \n",
    "        for idx, embedding in enumerate(embedded_texts):\n",
    "            authors_list = [author.strip() for author in new_chunks[idx].metadata.get('Author', 'Unknown').split(',')]\n",
    "            \n",
    "            vectors_with_metadata.append({\n",
    "                'id': new_chunk_ids[idx],\n",
    "                'values': embedding,\n",
    "                'metadata': {\n",
    "                    'text': batch_texts[idx],  # Store the text as metadata\n",
    "                    'Author': authors_list,  # Author metadata\n",
    "                    'publication_date': new_chunks[idx].metadata.get('publication_date', 'Unknown')  # Publication date metadata\n",
    "                }\n",
    "            })\n",
    "        \n",
    "        # Upsert embeddings into Pinecone\n",
    "        try:\n",
    "            index.upsert(vectors=vectors_with_metadata)\n",
    "            print(\"✅ All new documents added\")\n",
    "        except Exception as e:\n",
    "            print(f\"Error upserting documents: {e}\")\n",
    "    else:\n",
    "        print(\"✅ No new documents to add\")"
   ]
  },
  {
   "cell_type": "code",
   "execution_count": 2,
   "metadata": {},
   "outputs": [
    {
     "name": "stdout",
     "output_type": "stream",
     "text": [
      "Collecting fuzzywuzzy\n",
      "  Downloading fuzzywuzzy-0.18.0-py2.py3-none-any.whl (18 kB)\n",
      "Installing collected packages: fuzzywuzzy\n",
      "Successfully installed fuzzywuzzy-0.18.0\n",
      "Note: you may need to restart the kernel to use updated packages.\n"
     ]
    },
    {
     "name": "stderr",
     "output_type": "stream",
     "text": [
      "WARNING: Ignoring invalid distribution -rotobuf (c:\\users\\ashut\\appdata\\local\\programs\\python\\python310\\lib\\site-packages)\n",
      "WARNING: Ignoring invalid distribution -rotobuf (c:\\users\\ashut\\appdata\\local\\programs\\python\\python310\\lib\\site-packages)\n",
      "WARNING: Ignoring invalid distribution -rotobuf (c:\\users\\ashut\\appdata\\local\\programs\\python\\python310\\lib\\site-packages)\n",
      "WARNING: Ignoring invalid distribution -rotobuf (c:\\users\\ashut\\appdata\\local\\programs\\python\\python310\\lib\\site-packages)\n",
      "WARNING: Ignoring invalid distribution -rotobuf (c:\\users\\ashut\\appdata\\local\\programs\\python\\python310\\lib\\site-packages)\n",
      "WARNING: Ignoring invalid distribution -rotobuf (c:\\users\\ashut\\appdata\\local\\programs\\python\\python310\\lib\\site-packages)\n",
      "WARNING: Ignoring invalid distribution -rotobuf (c:\\users\\ashut\\appdata\\local\\programs\\python\\python310\\lib\\site-packages)\n",
      "WARNING: You are using pip version 21.2.3; however, version 24.2 is available.\n",
      "You should consider upgrading via the 'c:\\Users\\ashut\\AppData\\Local\\Programs\\Python\\Python310\\python.exe -m pip install --upgrade pip' command.\n"
     ]
    }
   ],
   "source": [
    "pip install fuzzywuzzy"
   ]
  },
  {
   "cell_type": "code",
   "execution_count": 18,
   "metadata": {},
   "outputs": [
    {
     "name": "stdout",
     "output_type": "stream",
     "text": [
      "Collecting en-core-web-sm==3.5.0\n",
      "  Downloading https://github.com/explosion/spacy-models/releases/download/en_core_web_sm-3.5.0/en_core_web_sm-3.5.0-py3-none-any.whl (12.8 MB)\n",
      "Collecting spacy<3.6.0,>=3.5.0\n",
      "  Downloading spacy-3.5.4-cp310-cp310-win_amd64.whl (12.2 MB)\n",
      "Requirement already satisfied: cymem<2.1.0,>=2.0.2 in c:\\users\\ashut\\appdata\\local\\programs\\python\\python310\\lib\\site-packages (from spacy<3.6.0,>=3.5.0->en-core-web-sm==3.5.0) (2.0.8)\n",
      "Collecting smart-open<7.0.0,>=5.2.1\n",
      "  Downloading smart_open-6.4.0-py3-none-any.whl (57 kB)\n",
      "Requirement already satisfied: wasabi<1.2.0,>=0.9.1 in c:\\users\\ashut\\appdata\\local\\programs\\python\\python310\\lib\\site-packages (from spacy<3.6.0,>=3.5.0->en-core-web-sm==3.5.0) (1.1.3)\n",
      "Collecting thinc<8.2.0,>=8.1.8\n",
      "  Downloading thinc-8.1.12-cp310-cp310-win_amd64.whl (1.5 MB)\n",
      "Requirement already satisfied: jinja2 in c:\\users\\ashut\\appdata\\local\\programs\\python\\python310\\lib\\site-packages (from spacy<3.6.0,>=3.5.0->en-core-web-sm==3.5.0) (3.1.4)\n",
      "Requirement already satisfied: spacy-loggers<2.0.0,>=1.0.0 in c:\\users\\ashut\\appdata\\local\\programs\\python\\python310\\lib\\site-packages (from spacy<3.6.0,>=3.5.0->en-core-web-sm==3.5.0) (1.0.5)\n",
      "Requirement already satisfied: packaging>=20.0 in c:\\users\\ashut\\appdata\\roaming\\python\\python310\\site-packages (from spacy<3.6.0,>=3.5.0->en-core-web-sm==3.5.0) (24.1)\n",
      "Requirement already satisfied: preshed<3.1.0,>=3.0.2 in c:\\users\\ashut\\appdata\\local\\programs\\python\\python310\\lib\\site-packages (from spacy<3.6.0,>=3.5.0->en-core-web-sm==3.5.0) (3.0.9)\n",
      "Requirement already satisfied: langcodes<4.0.0,>=3.2.0 in c:\\users\\ashut\\appdata\\local\\programs\\python\\python310\\lib\\site-packages (from spacy<3.6.0,>=3.5.0->en-core-web-sm==3.5.0) (3.4.0)\n",
      "Requirement already satisfied: spacy-legacy<3.1.0,>=3.0.11 in c:\\users\\ashut\\appdata\\local\\programs\\python\\python310\\lib\\site-packages (from spacy<3.6.0,>=3.5.0->en-core-web-sm==3.5.0) (3.0.12)\n",
      "Requirement already satisfied: requests<3.0.0,>=2.13.0 in c:\\users\\ashut\\appdata\\local\\programs\\python\\python310\\lib\\site-packages (from spacy<3.6.0,>=3.5.0->en-core-web-sm==3.5.0) (2.32.3)\n",
      "Requirement already satisfied: srsly<3.0.0,>=2.4.3 in c:\\users\\ashut\\appdata\\local\\programs\\python\\python310\\lib\\site-packages (from spacy<3.6.0,>=3.5.0->en-core-web-sm==3.5.0) (2.4.8)\n",
      "Requirement already satisfied: numpy>=1.15.0 in c:\\users\\ashut\\appdata\\local\\programs\\python\\python310\\lib\\site-packages (from spacy<3.6.0,>=3.5.0->en-core-web-sm==3.5.0) (1.26.4)\n",
      "Requirement already satisfied: catalogue<2.1.0,>=2.0.6 in c:\\users\\ashut\\appdata\\local\\programs\\python\\python310\\lib\\site-packages (from spacy<3.6.0,>=3.5.0->en-core-web-sm==3.5.0) (2.0.10)\n",
      "Collecting typer<0.10.0,>=0.3.0\n",
      "  Downloading typer-0.9.4-py3-none-any.whl (45 kB)\n",
      "Collecting pathy>=0.10.0\n",
      "  Downloading pathy-0.11.0-py3-none-any.whl (47 kB)\n",
      "Requirement already satisfied: setuptools in c:\\users\\ashut\\appdata\\local\\programs\\python\\python310\\lib\\site-packages (from spacy<3.6.0,>=3.5.0->en-core-web-sm==3.5.0) (57.4.0)\n",
      "Requirement already satisfied: murmurhash<1.1.0,>=0.28.0 in c:\\users\\ashut\\appdata\\local\\programs\\python\\python310\\lib\\site-packages (from spacy<3.6.0,>=3.5.0->en-core-web-sm==3.5.0) (1.0.10)\n",
      "Requirement already satisfied: tqdm<5.0.0,>=4.38.0 in c:\\users\\ashut\\appdata\\local\\programs\\python\\python310\\lib\\site-packages (from spacy<3.6.0,>=3.5.0->en-core-web-sm==3.5.0) (4.66.5)\n",
      "Collecting pydantic!=1.8,!=1.8.1,<1.11.0,>=1.7.4\n",
      "  Downloading pydantic-1.10.18-cp310-cp310-win_amd64.whl (2.1 MB)\n",
      "Requirement already satisfied: language-data>=1.2 in c:\\users\\ashut\\appdata\\local\\programs\\python\\python310\\lib\\site-packages (from langcodes<4.0.0,>=3.2.0->spacy<3.6.0,>=3.5.0->en-core-web-sm==3.5.0) (1.2.0)\n",
      "Requirement already satisfied: marisa-trie>=0.7.7 in c:\\users\\ashut\\appdata\\local\\programs\\python\\python310\\lib\\site-packages (from language-data>=1.2->langcodes<4.0.0,>=3.2.0->spacy<3.6.0,>=3.5.0->en-core-web-sm==3.5.0) (1.2.0)\n",
      "Collecting pathlib-abc==0.1.1\n",
      "  Downloading pathlib_abc-0.1.1-py3-none-any.whl (23 kB)\n",
      "Requirement already satisfied: typing-extensions>=4.2.0 in c:\\users\\ashut\\appdata\\roaming\\python\\python310\\site-packages (from pydantic!=1.8,!=1.8.1,<1.11.0,>=1.7.4->spacy<3.6.0,>=3.5.0->en-core-web-sm==3.5.0) (4.12.2)\n",
      "Requirement already satisfied: certifi>=2017.4.17 in c:\\users\\ashut\\appdata\\local\\programs\\python\\python310\\lib\\site-packages (from requests<3.0.0,>=2.13.0->spacy<3.6.0,>=3.5.0->en-core-web-sm==3.5.0) (2024.8.30)\n",
      "Requirement already satisfied: urllib3<3,>=1.21.1 in c:\\users\\ashut\\appdata\\local\\programs\\python\\python310\\lib\\site-packages (from requests<3.0.0,>=2.13.0->spacy<3.6.0,>=3.5.0->en-core-web-sm==3.5.0) (2.2.3)\n",
      "Requirement already satisfied: charset-normalizer<4,>=2 in c:\\users\\ashut\\appdata\\local\\programs\\python\\python310\\lib\\site-packages (from requests<3.0.0,>=2.13.0->spacy<3.6.0,>=3.5.0->en-core-web-sm==3.5.0) (3.3.2)\n",
      "Requirement already satisfied: idna<4,>=2.5 in c:\\users\\ashut\\appdata\\local\\programs\\python\\python310\\lib\\site-packages (from requests<3.0.0,>=2.13.0->spacy<3.6.0,>=3.5.0->en-core-web-sm==3.5.0) (3.9)\n",
      "Requirement already satisfied: blis<0.8.0,>=0.7.8 in c:\\users\\ashut\\appdata\\local\\programs\\python\\python310\\lib\\site-packages (from thinc<8.2.0,>=8.1.8->spacy<3.6.0,>=3.5.0->en-core-web-sm==3.5.0) (0.7.11)\n",
      "Requirement already satisfied: confection<1.0.0,>=0.0.1 in c:\\users\\ashut\\appdata\\local\\programs\\python\\python310\\lib\\site-packages (from thinc<8.2.0,>=8.1.8->spacy<3.6.0,>=3.5.0->en-core-web-sm==3.5.0) (0.1.5)\n",
      "Requirement already satisfied: colorama in c:\\users\\ashut\\appdata\\roaming\\python\\python310\\site-packages (from tqdm<5.0.0,>=4.38.0->spacy<3.6.0,>=3.5.0->en-core-web-sm==3.5.0) (0.4.6)\n",
      "Requirement already satisfied: click<9.0.0,>=7.1.1 in c:\\users\\ashut\\appdata\\local\\programs\\python\\python310\\lib\\site-packages (from typer<0.10.0,>=0.3.0->spacy<3.6.0,>=3.5.0->en-core-web-sm==3.5.0) (8.1.7)\n",
      "Requirement already satisfied: MarkupSafe>=2.0 in c:\\users\\ashut\\appdata\\local\\programs\\python\\python310\\lib\\site-packages (from jinja2->spacy<3.6.0,>=3.5.0->en-core-web-sm==3.5.0) (2.1.5)\n",
      "Installing collected packages: pydantic, typer, smart-open, pathlib-abc, thinc, pathy, spacy, en-core-web-sm\n",
      "  Attempting uninstall: pydantic\n",
      "    Found existing installation: pydantic 2.9.1\n",
      "    Uninstalling pydantic-2.9.1:\n",
      "      Successfully uninstalled pydantic-2.9.1\n",
      "  Attempting uninstall: typer\n",
      "    Found existing installation: typer 0.12.5\n",
      "    Uninstalling typer-0.12.5:\n",
      "      Successfully uninstalled typer-0.12.5\n",
      "  Attempting uninstall: smart-open\n",
      "    Found existing installation: smart-open 7.0.4\n",
      "    Uninstalling smart-open-7.0.4:\n",
      "      Successfully uninstalled smart-open-7.0.4\n",
      "  Attempting uninstall: thinc\n",
      "    Found existing installation: thinc 8.2.5\n",
      "    Uninstalling thinc-8.2.5:\n",
      "      Successfully uninstalled thinc-8.2.5\n",
      "Note: you may need to restart the kernel to use updated packages.\n"
     ]
    },
    {
     "name": "stderr",
     "output_type": "stream",
     "text": [
      "WARNING: Ignoring invalid distribution -rotobuf (c:\\users\\ashut\\appdata\\local\\programs\\python\\python310\\lib\\site-packages)\n",
      "WARNING: Ignoring invalid distribution -rotobuf (c:\\users\\ashut\\appdata\\local\\programs\\python\\python310\\lib\\site-packages)\n",
      "WARNING: Ignoring invalid distribution -rotobuf (c:\\users\\ashut\\appdata\\local\\programs\\python\\python310\\lib\\site-packages)\n",
      "    WARNING: Ignoring invalid distribution -rotobuf (c:\\users\\ashut\\appdata\\local\\programs\\python\\python310\\lib\\site-packages)\n",
      "    WARNING: Ignoring invalid distribution -rotobuf (c:\\users\\ashut\\appdata\\local\\programs\\python\\python310\\lib\\site-packages)\n",
      "    WARNING: Ignoring invalid distribution -rotobuf (c:\\users\\ashut\\appdata\\local\\programs\\python\\python310\\lib\\site-packages)\n",
      "    WARNING: Ignoring invalid distribution -rotobuf (c:\\users\\ashut\\appdata\\local\\programs\\python\\python310\\lib\\site-packages)\n",
      "ERROR: Could not install packages due to an OSError: [WinError 5] Access is denied: 'C:\\\\Users\\\\ashut\\\\AppData\\\\Local\\\\Programs\\\\Python\\\\Python310\\\\Lib\\\\site-packages\\\\~hinc\\\\backends\\\\cblas.cp310-win_amd64.pyd'\n",
      "Consider using the `--user` option or check the permissions.\n",
      "\n",
      "WARNING: Ignoring invalid distribution -rotobuf (c:\\users\\ashut\\appdata\\local\\programs\\python\\python310\\lib\\site-packages)\n",
      "WARNING: Ignoring invalid distribution -rotobuf (c:\\users\\ashut\\appdata\\local\\programs\\python\\python310\\lib\\site-packages)\n",
      "WARNING: Ignoring invalid distribution -rotobuf (c:\\users\\ashut\\appdata\\local\\programs\\python\\python310\\lib\\site-packages)\n",
      "WARNING: You are using pip version 21.2.3; however, version 24.2 is available.\n",
      "You should consider upgrading via the 'c:\\Users\\ashut\\AppData\\Local\\Programs\\Python\\Python310\\python.exe -m pip install --upgrade pip' command.\n"
     ]
    }
   ],
   "source": [
    "pip install https://github.com/explosion/spacy-models/releases/download/en_core_web_sm-3.5.0/en_core_web_sm-3.5.0-py3-none-any.whl"
   ]
  },
  {
   "cell_type": "code",
   "execution_count": 20,
   "metadata": {},
   "outputs": [
    {
     "name": "stderr",
     "output_type": "stream",
     "text": [
      "Traceback (most recent call last):\n",
      "  File \"c:\\Users\\ashut\\AppData\\Local\\Programs\\Python\\Python310\\lib\\runpy.py\", line 187, in _run_module_as_main\n",
      "    mod_name, mod_spec, code = _get_module_details(mod_name, _Error)\n",
      "  File \"c:\\Users\\ashut\\AppData\\Local\\Programs\\Python\\Python310\\lib\\runpy.py\", line 146, in _get_module_details\n",
      "    return _get_module_details(pkg_main_name, error)\n",
      "  File \"c:\\Users\\ashut\\AppData\\Local\\Programs\\Python\\Python310\\lib\\runpy.py\", line 110, in _get_module_details\n",
      "    __import__(pkg_name)\n",
      "  File \"c:\\Users\\ashut\\AppData\\Local\\Programs\\Python\\Python310\\lib\\site-packages\\spacy\\__init__.py\", line 13, in <module>\n",
      "    from . import pipeline  # noqa: F401\n",
      "  File \"c:\\Users\\ashut\\AppData\\Local\\Programs\\Python\\Python310\\lib\\site-packages\\spacy\\pipeline\\__init__.py\", line 2, in <module>\n",
      "    from .dep_parser import DependencyParser\n",
      "  File \"spacy\\pipeline\\dep_parser.pyx\", line 1, in init spacy.pipeline.dep_parser\n",
      "  File \"spacy\\pipeline\\transition_parser.pyx\", line 1, in init spacy.pipeline.transition_parser\n",
      "  File \"c:\\Users\\ashut\\AppData\\Local\\Programs\\Python\\Python310\\lib\\site-packages\\spacy\\ml\\__init__.py\", line 2, in <module>\n",
      "    from .models import *  # noqa: F401, F403\n",
      "  File \"c:\\Users\\ashut\\AppData\\Local\\Programs\\Python\\Python310\\lib\\site-packages\\spacy\\ml\\models\\__init__.py\", line 7, in <module>\n",
      "    from .textcat import *  # noqa\n",
      "  File \"c:\\Users\\ashut\\AppData\\Local\\Programs\\Python\\Python310\\lib\\site-packages\\spacy\\ml\\models\\textcat.py\", line 4, in <module>\n",
      "    from thinc.api import (\n",
      "ImportError: cannot import name 'ParametricAttention_v2' from 'thinc.api' (c:\\Users\\ashut\\AppData\\Local\\Programs\\Python\\Python310\\lib\\site-packages\\thinc\\api.py)\n"
     ]
    }
   ],
   "source": [
    "!python -m spacy download en_core_web_lg "
   ]
  },
  {
   "cell_type": "code",
   "execution_count": 22,
   "metadata": {},
   "outputs": [
    {
     "name": "stderr",
     "output_type": "stream",
     "text": [
      "Traceback (most recent call last):\n",
      "  File \"c:\\Users\\ashut\\AppData\\Local\\Programs\\Python\\Python310\\lib\\runpy.py\", line 187, in _run_module_as_main\n",
      "    mod_name, mod_spec, code = _get_module_details(mod_name, _Error)\n",
      "  File \"c:\\Users\\ashut\\AppData\\Local\\Programs\\Python\\Python310\\lib\\runpy.py\", line 146, in _get_module_details\n",
      "    return _get_module_details(pkg_main_name, error)\n",
      "  File \"c:\\Users\\ashut\\AppData\\Local\\Programs\\Python\\Python310\\lib\\runpy.py\", line 110, in _get_module_details\n",
      "    __import__(pkg_name)\n",
      "  File \"c:\\Users\\ashut\\AppData\\Local\\Programs\\Python\\Python310\\lib\\site-packages\\spacy\\__init__.py\", line 13, in <module>\n",
      "    from . import pipeline  # noqa: F401\n",
      "  File \"c:\\Users\\ashut\\AppData\\Local\\Programs\\Python\\Python310\\lib\\site-packages\\spacy\\pipeline\\__init__.py\", line 2, in <module>\n",
      "    from .dep_parser import DependencyParser\n",
      "  File \"spacy\\pipeline\\dep_parser.pyx\", line 1, in init spacy.pipeline.dep_parser\n",
      "  File \"spacy\\pipeline\\transition_parser.pyx\", line 1, in init spacy.pipeline.transition_parser\n",
      "  File \"c:\\Users\\ashut\\AppData\\Local\\Programs\\Python\\Python310\\lib\\site-packages\\spacy\\ml\\__init__.py\", line 2, in <module>\n",
      "    from .models import *  # noqa: F401, F403\n",
      "  File \"c:\\Users\\ashut\\AppData\\Local\\Programs\\Python\\Python310\\lib\\site-packages\\spacy\\ml\\models\\__init__.py\", line 7, in <module>\n",
      "    from .textcat import *  # noqa\n",
      "  File \"c:\\Users\\ashut\\AppData\\Local\\Programs\\Python\\Python310\\lib\\site-packages\\spacy\\ml\\models\\textcat.py\", line 4, in <module>\n",
      "    from thinc.api import (\n",
      "ImportError: cannot import name 'ParametricAttention_v2' from 'thinc.api' (c:\\Users\\ashut\\AppData\\Local\\Programs\\Python\\Python310\\lib\\site-packages\\thinc\\api.py)\n"
     ]
    }
   ],
   "source": [
    "!python -m spacy download en"
   ]
  },
  {
   "cell_type": "code",
   "execution_count": 23,
   "metadata": {},
   "outputs": [
    {
     "ename": "SyntaxError",
     "evalue": "invalid syntax. Perhaps you forgot a comma? (2997175802.py, line 2)",
     "output_type": "error",
     "traceback": [
      "\u001b[1;36m  Cell \u001b[1;32mIn[23], line 2\u001b[1;36m\u001b[0m\n\u001b[1;33m    pip install .tar.gz archive from path or URL\u001b[0m\n\u001b[1;37m        ^\u001b[0m\n\u001b[1;31mSyntaxError\u001b[0m\u001b[1;31m:\u001b[0m invalid syntax. Perhaps you forgot a comma?\n"
     ]
    }
   ],
   "source": [
    "!python -m spacy download en_core_web_sm\n"
   ]
  },
  {
   "cell_type": "code",
   "execution_count": null,
   "metadata": {},
   "outputs": [],
   "source": []
  },
  {
   "cell_type": "code",
   "execution_count": 25,
   "metadata": {},
   "outputs": [
    {
     "name": "stdout",
     "output_type": "stream",
     "text": [
      "Processing c:\\qpiai\\.tar.gz\n"
     ]
    },
    {
     "name": "stderr",
     "output_type": "stream",
     "text": [
      "WARNING: Ignoring invalid distribution -rotobuf (c:\\users\\ashut\\appdata\\local\\programs\\python\\python310\\lib\\site-packages)\n",
      "WARNING: Requirement '.tar.gz' looks like a filename, but the file does not exist\n",
      "WARNING: Ignoring invalid distribution -rotobuf (c:\\users\\ashut\\appdata\\local\\programs\\python\\python310\\lib\\site-packages)\n",
      "ERROR: Could not install packages due to an OSError: [Errno 2] No such file or directory: 'C:\\\\QpiAi\\\\.tar.gz'\n",
      "\n",
      "WARNING: Ignoring invalid distribution -rotobuf (c:\\users\\ashut\\appdata\\local\\programs\\python\\python310\\lib\\site-packages)\n",
      "WARNING: Ignoring invalid distribution -rotobuf (c:\\users\\ashut\\appdata\\local\\programs\\python\\python310\\lib\\site-packages)\n",
      "WARNING: Ignoring invalid distribution -rotobuf (c:\\users\\ashut\\appdata\\local\\programs\\python\\python310\\lib\\site-packages)\n",
      "WARNING: You are using pip version 21.2.3; however, version 24.2 is available.\n",
      "You should consider upgrading via the 'C:\\Users\\ashut\\AppData\\Local\\Programs\\Python\\Python310\\python.exe -m pip install --upgrade pip' command.\n"
     ]
    },
    {
     "name": "stdout",
     "output_type": "stream",
     "text": [
      "Processing c:\\users\\you\\en_core_web_sm-2.2.0.tar.gz\n"
     ]
    },
    {
     "name": "stderr",
     "output_type": "stream",
     "text": [
      "WARNING: Ignoring invalid distribution -rotobuf (c:\\users\\ashut\\appdata\\local\\programs\\python\\python310\\lib\\site-packages)\n",
      "WARNING: Requirement '/Users/you/en_core_web_sm-2.2.0.tar.gz' looks like a filename, but the file does not exist\n",
      "WARNING: Ignoring invalid distribution -rotobuf (c:\\users\\ashut\\appdata\\local\\programs\\python\\python310\\lib\\site-packages)\n",
      "ERROR: Could not install packages due to an OSError: [Errno 2] No such file or directory: 'C:\\\\Users\\\\you\\\\en_core_web_sm-2.2.0.tar.gz'\n",
      "\n",
      "WARNING: Ignoring invalid distribution -rotobuf (c:\\users\\ashut\\appdata\\local\\programs\\python\\python310\\lib\\site-packages)\n",
      "WARNING: Ignoring invalid distribution -rotobuf (c:\\users\\ashut\\appdata\\local\\programs\\python\\python310\\lib\\site-packages)\n",
      "WARNING: Ignoring invalid distribution -rotobuf (c:\\users\\ashut\\appdata\\local\\programs\\python\\python310\\lib\\site-packages)\n",
      "WARNING: You are using pip version 21.2.3; however, version 24.2 is available.\n",
      "You should consider upgrading via the 'C:\\Users\\ashut\\AppData\\Local\\Programs\\Python\\Python310\\python.exe -m pip install --upgrade pip' command.\n"
     ]
    }
   ],
   "source": [
    "!pip install .tar.gz archive from path or URL\n",
    "!pip install /Users/you/en_core_web_sm-2.2.0.tar.gz"
   ]
  },
  {
   "cell_type": "code",
   "execution_count": 27,
   "metadata": {},
   "outputs": [
    {
     "name": "stdout",
     "output_type": "stream",
     "text": [
      "\u001b[38;5;2m✔ Download and installation successful\u001b[0m\n",
      "You can now load the package via spacy.load('en_core_web_lg')\n",
      "\u001b[38;5;3m⚠ Restart to reload dependencies\u001b[0m\n",
      "If you are in a Jupyter or Colab notebook, you may need to restart Python in\n",
      "order to load all the package's dependencies. You can do this by selecting the\n",
      "'Restart kernel' or 'Restart runtime' option.\n"
     ]
    }
   ],
   "source": [
    "import spacy.cli\n",
    "spacy.cli.download(\"en_core_web_lg\")"
   ]
  },
  {
   "cell_type": "code",
   "execution_count": 28,
   "metadata": {},
   "outputs": [
    {
     "name": "stdout",
     "output_type": "stream",
     "text": [
      "Detected potential authors in query: ['Yuexi Du']\n",
      "Top 10 results for the query 'give the research paper by Yuexi Du published in September':\n",
      "\n",
      "Result 1:\n",
      "  - ID: C:\\QpiAi\\paper_2409.18125.pdf:8:3\n",
      "  - Score: 0.364301205\n",
      "  - No close match found for: Yuexi Du\n",
      "\n",
      "Result 2:\n",
      "  - ID: C:\\QpiAi\\paper_2409.18124.pdf:0:0\n",
      "  - Score: 0.287131101\n",
      "  - No close match found for: Yuexi Du\n",
      "\n",
      "Result 3:\n",
      "  - ID: C:\\QpiAi\\paper_2409.18128.pdf:10:2\n",
      "  - Score: 0.267722964\n",
      "  - No close match found for: Yuexi Du\n",
      "\n",
      "Result 4:\n",
      "  - ID: C:\\QpiAi\\paper_2409.18128.pdf:11:2\n",
      "  - Score: 0.236149743\n",
      "  - No close match found for: Yuexi Du\n",
      "\n",
      "Result 5:\n",
      "  - ID: C:\\QpiAi\\paper_2409.18124.pdf:10:1\n",
      "  - Score: 0.228472888\n",
      "  - No close match found for: Yuexi Du\n",
      "\n",
      "Result 6:\n",
      "  - ID: C:\\QpiAi\\paper_2409.18124.pdf:10:0\n",
      "  - Score: 0.222014651\n",
      "  - No close match found for: Yuexi Du\n",
      "\n",
      "Result 7:\n",
      "  - ID: C:\\QpiAi\\paper_2409.18124.pdf:5:0\n",
      "  - Score: 0.212008938\n",
      "  - No close match found for: Yuexi Du\n",
      "\n",
      "Result 8:\n",
      "  - ID: C:\\QpiAi\\paper_2409.18124.pdf:5:1\n",
      "  - Score: 0.204972789\n",
      "  - No close match found for: Yuexi Du\n",
      "\n",
      "Result 9:\n",
      "  - ID: C:\\QpiAi\\paper_2409.18124.pdf:6:0\n",
      "  - Score: 0.201879591\n",
      "  - No close match found for: Yuexi Du\n",
      "\n",
      "Result 10:\n",
      "  - ID: C:\\QpiAi\\paper_2409.18128.pdf:1:0\n",
      "  - Score: 0.191131949\n",
      "  - No close match found for: Yuexi Du\n"
     ]
    }
   ],
   "source": [
    "import spacy\n",
    "from fuzzywuzzy import fuzz, process\n",
    "from pinecone import Pinecone\n",
    "\n",
    "# Load Spacy NER model (using 'en_core_web_sm' or any other suitable model)\n",
    "nlp = spacy.load(\"en_core_web_lg\")\n",
    "\n",
    "def extract_authors(query_text: str):\n",
    "    \"\"\"Extracts potential author names from the query using NER.\"\"\"\n",
    "    doc = nlp(query_text)\n",
    "    authors = [ent.text for ent in doc.ents if ent.label_ == \"PERSON\"]  # 'PERSON' label for detecting names\n",
    "    return authors\n",
    "\n",
    "def find_best_match(author_name: str, author_list: list):\n",
    "    \"\"\"Use fuzzy matching to find the closest match for an author name.\"\"\"\n",
    "    best_match = process.extractOne(author_name, author_list, scorer=fuzz.token_sort_ratio)\n",
    "    return best_match\n",
    "\n",
    "def retrieve_from_pinecone(query_text: str, top_k=5):\n",
    "    # Initialize Pinecone\n",
    "    pc = Pinecone(api_key=api_key)  # Update with your API key and environment\n",
    "    index_name = 'embeddings5'\n",
    "\n",
    "    # Connect to the existing index\n",
    "    index = pc.Index(index_name)\n",
    "\n",
    "    # Embed the query text using the same model used for upserts\n",
    "    query_embedding = model.encode(query_text).tolist()  # Encode query into embedding\n",
    "\n",
    "    # Perform similarity search in Pinecone\n",
    "    results = index.query(vector=query_embedding, top_k=top_k, include_values=True, include_metadata=True)\n",
    "\n",
    "    # Extract author names from query using NER\n",
    "    query_authors = extract_authors(query_text)\n",
    "    \n",
    "    if query_authors:\n",
    "        print(f\"Detected potential authors in query: {query_authors}\")\n",
    "    else:\n",
    "        print(\"No authors detected in the query\")\n",
    "\n",
    "    print(f\"Top {top_k} results for the query '{query_text}':\")\n",
    "    \n",
    "    # Iterate over search results\n",
    "    for i, match in enumerate(results['matches']):\n",
    "        print(f\"\\nResult {i+1}:\")\n",
    "        print(f\"  - ID: {match['id']}\")\n",
    "        print(f\"  - Score: {match['score']}\")\n",
    "        \n",
    "        # Get authors from metadata\n",
    "        result_authors = match['metadata'].get('Author', [])\n",
    "        \n",
    "        # Compare query authors with result authors using fuzzy matching\n",
    "        if query_authors:\n",
    "            for query_author in query_authors:\n",
    "                best_match = find_best_match(query_author, result_authors)\n",
    "                \n",
    "                if best_match and best_match[1] > 80:  # Match threshold (tune based on your need)\n",
    "                    print(f\"  - Matched Author: {best_match[0]} (Similarity: {best_match[1]})\")\n",
    "                else:\n",
    "                    print(f\"  - No close match found for: {query_author}\")\n",
    "        else:\n",
    "            print(f\"  - Metadata Authors: {result_authors}\")\n",
    "\n",
    "    return results\n",
    "\n",
    "# Example usage\n",
    "query = \"give the research paper by Yuexi Du\"\n",
    "top_k_results = retrieve_from_pinecone(query, top_k=10)"
   ]
  },
  {
   "cell_type": "code",
   "execution_count": null,
   "metadata": {},
   "outputs": [],
   "source": [
    "query = \"Find papers by author: John Doe\"\n",
    "author = extract_author(query)"
   ]
  },
  {
   "cell_type": "code",
   "execution_count": 30,
   "metadata": {},
   "outputs": [
    {
     "data": {
      "text/plain": [
       "0    Wenliang Zhao, Minglei Shi, Xumin Yu, Jie Zhou...\n",
       "1    Fangzhou Hong, Vladimir Guzov, Hyo Jin Kim, Yu...\n",
       "2    Chenming Zhu, Tai Wang, Wenwei Zhang, Jiangmia...\n",
       "3    Jing He, Haodong Li, Wei Yin, Yixun Liang, Leh...\n",
       "4             Yuexi Du, John Onofrey, Nicha C. Dvornek\n",
       "Name: Author, dtype: object"
      ]
     },
     "execution_count": 30,
     "metadata": {},
     "output_type": "execute_result"
    }
   ],
   "source": [
    "stored_meta['Author']"
   ]
  },
  {
   "cell_type": "code",
   "execution_count": 35,
   "metadata": {},
   "outputs": [],
   "source": [
    "all_authors = stored_meta['Author'].str.split(',').tolist()\n",
    "flattened_authors = [author.strip() for sublist in all_authors for author in sublist]\n",
    "\n",
    "# Step 3: Get the unique authors\n",
    "unique_authors = list(set(flattened_authors))"
   ]
  },
  {
   "cell_type": "code",
   "execution_count": 36,
   "metadata": {},
   "outputs": [
    {
     "data": {
      "text/plain": [
       "['Leheng Li',\n",
       " 'Minglei Shi',\n",
       " 'Tai Wang',\n",
       " 'Nicha C. Dvornek',\n",
       " 'Fangzhou Hong',\n",
       " 'Hongbo Liu',\n",
       " 'Jiangmiao Pang',\n",
       " 'Kaiqiang Zhou',\n",
       " 'Jing He',\n",
       " 'Wenwei Zhang',\n",
       " 'Haodong Li',\n",
       " 'Jie Zhou',\n",
       " 'Yuting Ye',\n",
       " 'Ying-Cong Chen',\n",
       " 'Richard Newcombe',\n",
       " 'Yuexi Du',\n",
       " 'Ziwei Liu',\n",
       " 'Vladimir Guzov',\n",
       " 'Bingbing Liu',\n",
       " 'Chenming Zhu',\n",
       " 'Yixun Liang',\n",
       " 'Wenliang Zhao',\n",
       " 'Lingni Ma',\n",
       " 'Wei Yin',\n",
       " 'Hyo Jin Kim',\n",
       " 'John Onofrey',\n",
       " 'Xihui Liu',\n",
       " 'Xumin Yu',\n",
       " 'Jiwen Lu']"
      ]
     },
     "execution_count": 36,
     "metadata": {},
     "output_type": "execute_result"
    }
   ],
   "source": [
    "unique_authors"
   ]
  },
  {
   "cell_type": "code",
   "execution_count": 48,
   "metadata": {},
   "outputs": [],
   "source": [
    "nlp = spacy.load('en_core_web_lg')\n",
    "\n",
    "# Function to extract potential author name using NER and regex\n",
    "def extract_author_ner(query):\n",
    "    doc = nlp(query)\n",
    "    # Loop over entities to find PERSON entities (likely to be authors)\n",
    "    for ent in doc.ents:\n",
    "        if ent.label_ == \"PERSON\":\n",
    "            return ent.text.strip()  # Return the first person name found\n",
    "    return None"
   ]
  },
  {
   "cell_type": "code",
   "execution_count": 49,
   "metadata": {},
   "outputs": [
    {
     "data": {
      "text/plain": [
       "'Yuexi Du'"
      ]
     },
     "execution_count": 49,
     "metadata": {},
     "output_type": "execute_result"
    }
   ],
   "source": [
    "extract_author_ner(query)"
   ]
  },
  {
   "cell_type": "code",
   "execution_count": 51,
   "metadata": {},
   "outputs": [],
   "source": [
    "extracted_authors = extract_author_ner(query)"
   ]
  },
  {
   "cell_type": "code",
   "execution_count": 52,
   "metadata": {},
   "outputs": [],
   "source": [
    "def fuzzy_match_author(extracted_author, unique_authors, threshold=80):\n",
    "    # Use fuzzy matching to find the best match\n",
    "    matches = process.extractBests(extracted_author, unique_authors, score_cutoff=threshold)\n",
    "    return matches"
   ]
  },
  {
   "cell_type": "code",
   "execution_count": 53,
   "metadata": {},
   "outputs": [
    {
     "data": {
      "text/plain": [
       "[('Yuexi Du', 100)]"
      ]
     },
     "execution_count": 53,
     "metadata": {},
     "output_type": "execute_result"
    }
   ],
   "source": [
    "fuzzy_match_author(extracted_authors,unique_authors)"
   ]
  },
  {
   "cell_type": "code",
   "execution_count": 58,
   "metadata": {},
   "outputs": [],
   "source": [
    "def retrieve_from_pinecone(query_text: str, top_k=5, author_name: str = None):\n",
    "    # Initialize Pinecone\n",
    "    pc = Pinecone(api_key=api_key)  # Update with your API key and environment\n",
    "    index_name = 'embeddings5'\n",
    "\n",
    "    # Connect to the existing index\n",
    "    index = pc.Index(index_name)\n",
    "\n",
    "    # Embed the query text using the same model used for upserts\n",
    "    query_embedding = model.encode(query_text).tolist()  # Encode query into embedding\n",
    "\n",
    "    # Build the metadata filter if an author name is provided\n",
    "    metadata_filter = None\n",
    "    if author_name:\n",
    "        metadata_filter = {\n",
    "            \"Author\": {\"$in\": author_name}  # Filter using the $in operator for the author name\n",
    "        }\n",
    "\n",
    "    # Perform similarity search in Pinecone with metadata filtering\n",
    "    results = index.query(\n",
    "        vector=query_embedding,\n",
    "        top_k=top_k,\n",
    "        include_values=True,\n",
    "        include_metadata=True,\n",
    "        filter=metadata_filter  # Apply the metadata filter\n",
    "    )\n",
    "\n",
    "    # Display the results\n",
    "    print(f\"Top {top_k} results for the query '{query_text}' with author filtering:\")\n",
    "    for i, match in enumerate(results['matches']):\n",
    "        print(f\"\\nResult {i+1}:\")\n",
    "        print(f\"  - ID: {match['id']}\")\n",
    "        print(f\"  - Score: {match['score']}\")\n",
    "        print(f\"  - Metadata: {match.get('metadata', {})}\")\n",
    "\n",
    "    return results"
   ]
  },
  {
   "cell_type": "code",
   "execution_count": 68,
   "metadata": {},
   "outputs": [
    {
     "ename": "PineconeApiException",
     "evalue": "(400)\nReason: Bad Request\nHTTP response headers: HTTPHeaderDict({'Date': 'Mon, 30 Sep 2024 22:41:12 GMT', 'Content-Type': 'application/json', 'Content-Length': '137', 'Connection': 'keep-alive', 'x-pinecone-request-latency-ms': '1', 'x-pinecone-request-id': '3019207225874154891', 'x-envoy-upstream-service-time': '1', 'server': 'envoy'})\nHTTP response body: {\"code\":3,\"message\":\"the $in operator must be followed by a list of strings or a list of numbers, got \\\"Yuexi Du\\\" instead\",\"details\":[]}\n",
     "output_type": "error",
     "traceback": [
      "\u001b[1;31m---------------------------------------------------------------------------\u001b[0m",
      "\u001b[1;31mPineconeApiException\u001b[0m                      Traceback (most recent call last)",
      "Cell \u001b[1;32mIn[68], line 4\u001b[0m\n\u001b[0;32m      2\u001b[0m query \u001b[38;5;241m=\u001b[39m \u001b[38;5;124m\"\u001b[39m\u001b[38;5;124mgive the research paper by published on september\u001b[39m\u001b[38;5;124m\"\u001b[39m\n\u001b[0;32m      3\u001b[0m \u001b[38;5;66;03m# Retrieve and filter results by author\u001b[39;00m\n\u001b[1;32m----> 4\u001b[0m \u001b[43mretrieve_from_pinecone\u001b[49m\u001b[43m(\u001b[49m\u001b[43mquery\u001b[49m\u001b[43m,\u001b[49m\u001b[43m \u001b[49m\u001b[43mtop_k\u001b[49m\u001b[38;5;241;43m=\u001b[39;49m\u001b[38;5;241;43m10\u001b[39;49m\u001b[43m,\u001b[49m\u001b[43m \u001b[49m\u001b[43mauthor_name\u001b[49m\u001b[38;5;241;43m=\u001b[39;49m\u001b[43mauthor_name\u001b[49m\u001b[43m)\u001b[49m\n",
      "Cell \u001b[1;32mIn[58], line 20\u001b[0m, in \u001b[0;36mretrieve_from_pinecone\u001b[1;34m(query_text, top_k, author_name)\u001b[0m\n\u001b[0;32m     15\u001b[0m     metadata_filter \u001b[38;5;241m=\u001b[39m {\n\u001b[0;32m     16\u001b[0m         \u001b[38;5;124m\"\u001b[39m\u001b[38;5;124mAuthor\u001b[39m\u001b[38;5;124m\"\u001b[39m: {\u001b[38;5;124m\"\u001b[39m\u001b[38;5;124m$in\u001b[39m\u001b[38;5;124m\"\u001b[39m: author_name}  \u001b[38;5;66;03m# Filter using the $in operator for the author name\u001b[39;00m\n\u001b[0;32m     17\u001b[0m     }\n\u001b[0;32m     19\u001b[0m \u001b[38;5;66;03m# Perform similarity search in Pinecone with metadata filtering\u001b[39;00m\n\u001b[1;32m---> 20\u001b[0m results \u001b[38;5;241m=\u001b[39m \u001b[43mindex\u001b[49m\u001b[38;5;241;43m.\u001b[39;49m\u001b[43mquery\u001b[49m\u001b[43m(\u001b[49m\n\u001b[0;32m     21\u001b[0m \u001b[43m    \u001b[49m\u001b[43mvector\u001b[49m\u001b[38;5;241;43m=\u001b[39;49m\u001b[43mquery_embedding\u001b[49m\u001b[43m,\u001b[49m\n\u001b[0;32m     22\u001b[0m \u001b[43m    \u001b[49m\u001b[43mtop_k\u001b[49m\u001b[38;5;241;43m=\u001b[39;49m\u001b[43mtop_k\u001b[49m\u001b[43m,\u001b[49m\n\u001b[0;32m     23\u001b[0m \u001b[43m    \u001b[49m\u001b[43minclude_values\u001b[49m\u001b[38;5;241;43m=\u001b[39;49m\u001b[38;5;28;43;01mTrue\u001b[39;49;00m\u001b[43m,\u001b[49m\n\u001b[0;32m     24\u001b[0m \u001b[43m    \u001b[49m\u001b[43minclude_metadata\u001b[49m\u001b[38;5;241;43m=\u001b[39;49m\u001b[38;5;28;43;01mTrue\u001b[39;49;00m\u001b[43m,\u001b[49m\n\u001b[0;32m     25\u001b[0m \u001b[43m    \u001b[49m\u001b[38;5;28;43mfilter\u001b[39;49m\u001b[38;5;241;43m=\u001b[39;49m\u001b[43mmetadata_filter\u001b[49m\u001b[43m  \u001b[49m\u001b[38;5;66;43;03m# Apply the metadata filter\u001b[39;49;00m\n\u001b[0;32m     26\u001b[0m \u001b[43m\u001b[49m\u001b[43m)\u001b[49m\n\u001b[0;32m     28\u001b[0m \u001b[38;5;66;03m# Display the results\u001b[39;00m\n\u001b[0;32m     29\u001b[0m \u001b[38;5;28mprint\u001b[39m(\u001b[38;5;124mf\u001b[39m\u001b[38;5;124m\"\u001b[39m\u001b[38;5;124mTop \u001b[39m\u001b[38;5;132;01m{\u001b[39;00mtop_k\u001b[38;5;132;01m}\u001b[39;00m\u001b[38;5;124m results for the query \u001b[39m\u001b[38;5;124m'\u001b[39m\u001b[38;5;132;01m{\u001b[39;00mquery_text\u001b[38;5;132;01m}\u001b[39;00m\u001b[38;5;124m'\u001b[39m\u001b[38;5;124m with author filtering:\u001b[39m\u001b[38;5;124m\"\u001b[39m)\n",
      "File \u001b[1;32mc:\\Users\\ashut\\AppData\\Local\\Programs\\Python\\Python310\\lib\\site-packages\\pinecone\\utils\\error_handling.py:11\u001b[0m, in \u001b[0;36mvalidate_and_convert_errors.<locals>.inner_func\u001b[1;34m(*args, **kwargs)\u001b[0m\n\u001b[0;32m      8\u001b[0m \u001b[38;5;129m@wraps\u001b[39m(func)\n\u001b[0;32m      9\u001b[0m \u001b[38;5;28;01mdef\u001b[39;00m \u001b[38;5;21minner_func\u001b[39m(\u001b[38;5;241m*\u001b[39margs, \u001b[38;5;241m*\u001b[39m\u001b[38;5;241m*\u001b[39mkwargs):\n\u001b[0;32m     10\u001b[0m     \u001b[38;5;28;01mtry\u001b[39;00m:\n\u001b[1;32m---> 11\u001b[0m         \u001b[38;5;28;01mreturn\u001b[39;00m func(\u001b[38;5;241m*\u001b[39margs, \u001b[38;5;241m*\u001b[39m\u001b[38;5;241m*\u001b[39mkwargs)\n\u001b[0;32m     12\u001b[0m     \u001b[38;5;28;01mexcept\u001b[39;00m MaxRetryError \u001b[38;5;28;01mas\u001b[39;00m e:\n\u001b[0;32m     13\u001b[0m         \u001b[38;5;28;01mif\u001b[39;00m \u001b[38;5;28misinstance\u001b[39m(e\u001b[38;5;241m.\u001b[39mreason, ProtocolError):\n",
      "File \u001b[1;32mc:\\Users\\ashut\\AppData\\Local\\Programs\\Python\\Python310\\lib\\site-packages\\pinecone\\data\\index.py:429\u001b[0m, in \u001b[0;36mIndex.query\u001b[1;34m(self, top_k, vector, id, namespace, filter, include_values, include_metadata, sparse_vector, *args, **kwargs)\u001b[0m\n\u001b[0;32m    415\u001b[0m sparse_vector \u001b[38;5;241m=\u001b[39m \u001b[38;5;28mself\u001b[39m\u001b[38;5;241m.\u001b[39m_parse_sparse_values_arg(sparse_vector)\n\u001b[0;32m    416\u001b[0m args_dict \u001b[38;5;241m=\u001b[39m \u001b[38;5;28mself\u001b[39m\u001b[38;5;241m.\u001b[39m_parse_non_empty_args(\n\u001b[0;32m    417\u001b[0m     [\n\u001b[0;32m    418\u001b[0m         (\u001b[38;5;124m\"\u001b[39m\u001b[38;5;124mvector\u001b[39m\u001b[38;5;124m\"\u001b[39m, vector),\n\u001b[1;32m   (...)\u001b[0m\n\u001b[0;32m    427\u001b[0m     ]\n\u001b[0;32m    428\u001b[0m )\n\u001b[1;32m--> 429\u001b[0m response \u001b[38;5;241m=\u001b[39m \u001b[38;5;28mself\u001b[39m\u001b[38;5;241m.\u001b[39m_vector_api\u001b[38;5;241m.\u001b[39mquery(\n\u001b[0;32m    430\u001b[0m     QueryRequest(\n\u001b[0;32m    431\u001b[0m         \u001b[38;5;241m*\u001b[39m\u001b[38;5;241m*\u001b[39margs_dict,\n\u001b[0;32m    432\u001b[0m         _check_type\u001b[38;5;241m=\u001b[39m_check_type,\n\u001b[0;32m    433\u001b[0m         \u001b[38;5;241m*\u001b[39m\u001b[38;5;241m*\u001b[39m{k: v \u001b[38;5;28;01mfor\u001b[39;00m k, v \u001b[38;5;129;01min\u001b[39;00m kwargs\u001b[38;5;241m.\u001b[39mitems() \u001b[38;5;28;01mif\u001b[39;00m k \u001b[38;5;129;01mnot\u001b[39;00m \u001b[38;5;129;01min\u001b[39;00m _OPENAPI_ENDPOINT_PARAMS},\n\u001b[0;32m    434\u001b[0m     ),\n\u001b[0;32m    435\u001b[0m     \u001b[38;5;241m*\u001b[39m\u001b[38;5;241m*\u001b[39m{k: v \u001b[38;5;28;01mfor\u001b[39;00m k, v \u001b[38;5;129;01min\u001b[39;00m kwargs\u001b[38;5;241m.\u001b[39mitems() \u001b[38;5;28;01mif\u001b[39;00m k \u001b[38;5;129;01min\u001b[39;00m _OPENAPI_ENDPOINT_PARAMS},\n\u001b[0;32m    436\u001b[0m )\n\u001b[0;32m    437\u001b[0m \u001b[38;5;28;01mreturn\u001b[39;00m parse_query_response(response)\n",
      "File \u001b[1;32mc:\\Users\\ashut\\AppData\\Local\\Programs\\Python\\Python310\\lib\\site-packages\\pinecone\\core\\openapi\\shared\\api_client.py:761\u001b[0m, in \u001b[0;36mEndpoint.__call__\u001b[1;34m(self, *args, **kwargs)\u001b[0m\n\u001b[0;32m    750\u001b[0m \u001b[38;5;28;01mdef\u001b[39;00m \u001b[38;5;21m__call__\u001b[39m(\u001b[38;5;28mself\u001b[39m, \u001b[38;5;241m*\u001b[39margs, \u001b[38;5;241m*\u001b[39m\u001b[38;5;241m*\u001b[39mkwargs):\n\u001b[0;32m    751\u001b[0m \u001b[38;5;250m    \u001b[39m\u001b[38;5;124;03m\"\"\"This method is invoked when endpoints are called\u001b[39;00m\n\u001b[0;32m    752\u001b[0m \u001b[38;5;124;03m    Example:\u001b[39;00m\n\u001b[0;32m    753\u001b[0m \n\u001b[1;32m   (...)\u001b[0m\n\u001b[0;32m    759\u001b[0m \n\u001b[0;32m    760\u001b[0m \u001b[38;5;124;03m    \"\"\"\u001b[39;00m\n\u001b[1;32m--> 761\u001b[0m     \u001b[38;5;28;01mreturn\u001b[39;00m \u001b[38;5;28mself\u001b[39m\u001b[38;5;241m.\u001b[39mcallable(\u001b[38;5;28mself\u001b[39m, \u001b[38;5;241m*\u001b[39margs, \u001b[38;5;241m*\u001b[39m\u001b[38;5;241m*\u001b[39mkwargs)\n",
      "File \u001b[1;32mc:\\Users\\ashut\\AppData\\Local\\Programs\\Python\\Python310\\lib\\site-packages\\pinecone\\core\\openapi\\data\\api\\data_plane_api.py:639\u001b[0m, in \u001b[0;36mDataPlaneApi.__init__.<locals>.__query\u001b[1;34m(self, query_request, **kwargs)\u001b[0m\n\u001b[0;32m    637\u001b[0m kwargs[\u001b[38;5;124m\"\u001b[39m\u001b[38;5;124m_host_index\u001b[39m\u001b[38;5;124m\"\u001b[39m] \u001b[38;5;241m=\u001b[39m kwargs\u001b[38;5;241m.\u001b[39mget(\u001b[38;5;124m\"\u001b[39m\u001b[38;5;124m_host_index\u001b[39m\u001b[38;5;124m\"\u001b[39m)\n\u001b[0;32m    638\u001b[0m kwargs[\u001b[38;5;124m\"\u001b[39m\u001b[38;5;124mquery_request\u001b[39m\u001b[38;5;124m\"\u001b[39m] \u001b[38;5;241m=\u001b[39m query_request\n\u001b[1;32m--> 639\u001b[0m \u001b[38;5;28;01mreturn\u001b[39;00m \u001b[38;5;28mself\u001b[39m\u001b[38;5;241m.\u001b[39mcall_with_http_info(\u001b[38;5;241m*\u001b[39m\u001b[38;5;241m*\u001b[39mkwargs)\n",
      "File \u001b[1;32mc:\\Users\\ashut\\AppData\\Local\\Programs\\Python\\Python310\\lib\\site-packages\\pinecone\\core\\openapi\\shared\\api_client.py:819\u001b[0m, in \u001b[0;36mEndpoint.call_with_http_info\u001b[1;34m(self, **kwargs)\u001b[0m\n\u001b[0;32m    816\u001b[0m     header_list \u001b[38;5;241m=\u001b[39m \u001b[38;5;28mself\u001b[39m\u001b[38;5;241m.\u001b[39mapi_client\u001b[38;5;241m.\u001b[39mselect_header_content_type(content_type_headers_list)\n\u001b[0;32m    817\u001b[0m     params[\u001b[38;5;124m\"\u001b[39m\u001b[38;5;124mheader\u001b[39m\u001b[38;5;124m\"\u001b[39m][\u001b[38;5;124m\"\u001b[39m\u001b[38;5;124mContent-Type\u001b[39m\u001b[38;5;124m\"\u001b[39m] \u001b[38;5;241m=\u001b[39m header_list\n\u001b[1;32m--> 819\u001b[0m \u001b[38;5;28;01mreturn\u001b[39;00m \u001b[38;5;28;43mself\u001b[39;49m\u001b[38;5;241;43m.\u001b[39;49m\u001b[43mapi_client\u001b[49m\u001b[38;5;241;43m.\u001b[39;49m\u001b[43mcall_api\u001b[49m\u001b[43m(\u001b[49m\n\u001b[0;32m    820\u001b[0m \u001b[43m    \u001b[49m\u001b[38;5;28;43mself\u001b[39;49m\u001b[38;5;241;43m.\u001b[39;49m\u001b[43msettings\u001b[49m\u001b[43m[\u001b[49m\u001b[38;5;124;43m\"\u001b[39;49m\u001b[38;5;124;43mendpoint_path\u001b[39;49m\u001b[38;5;124;43m\"\u001b[39;49m\u001b[43m]\u001b[49m\u001b[43m,\u001b[49m\n\u001b[0;32m    821\u001b[0m \u001b[43m    \u001b[49m\u001b[38;5;28;43mself\u001b[39;49m\u001b[38;5;241;43m.\u001b[39;49m\u001b[43msettings\u001b[49m\u001b[43m[\u001b[49m\u001b[38;5;124;43m\"\u001b[39;49m\u001b[38;5;124;43mhttp_method\u001b[39;49m\u001b[38;5;124;43m\"\u001b[39;49m\u001b[43m]\u001b[49m\u001b[43m,\u001b[49m\n\u001b[0;32m    822\u001b[0m \u001b[43m    \u001b[49m\u001b[43mparams\u001b[49m\u001b[43m[\u001b[49m\u001b[38;5;124;43m\"\u001b[39;49m\u001b[38;5;124;43mpath\u001b[39;49m\u001b[38;5;124;43m\"\u001b[39;49m\u001b[43m]\u001b[49m\u001b[43m,\u001b[49m\n\u001b[0;32m    823\u001b[0m \u001b[43m    \u001b[49m\u001b[43mparams\u001b[49m\u001b[43m[\u001b[49m\u001b[38;5;124;43m\"\u001b[39;49m\u001b[38;5;124;43mquery\u001b[39;49m\u001b[38;5;124;43m\"\u001b[39;49m\u001b[43m]\u001b[49m\u001b[43m,\u001b[49m\n\u001b[0;32m    824\u001b[0m \u001b[43m    \u001b[49m\u001b[43mparams\u001b[49m\u001b[43m[\u001b[49m\u001b[38;5;124;43m\"\u001b[39;49m\u001b[38;5;124;43mheader\u001b[39;49m\u001b[38;5;124;43m\"\u001b[39;49m\u001b[43m]\u001b[49m\u001b[43m,\u001b[49m\n\u001b[0;32m    825\u001b[0m \u001b[43m    \u001b[49m\u001b[43mbody\u001b[49m\u001b[38;5;241;43m=\u001b[39;49m\u001b[43mparams\u001b[49m\u001b[43m[\u001b[49m\u001b[38;5;124;43m\"\u001b[39;49m\u001b[38;5;124;43mbody\u001b[39;49m\u001b[38;5;124;43m\"\u001b[39;49m\u001b[43m]\u001b[49m\u001b[43m,\u001b[49m\n\u001b[0;32m    826\u001b[0m \u001b[43m    \u001b[49m\u001b[43mpost_params\u001b[49m\u001b[38;5;241;43m=\u001b[39;49m\u001b[43mparams\u001b[49m\u001b[43m[\u001b[49m\u001b[38;5;124;43m\"\u001b[39;49m\u001b[38;5;124;43mform\u001b[39;49m\u001b[38;5;124;43m\"\u001b[39;49m\u001b[43m]\u001b[49m\u001b[43m,\u001b[49m\n\u001b[0;32m    827\u001b[0m \u001b[43m    \u001b[49m\u001b[43mfiles\u001b[49m\u001b[38;5;241;43m=\u001b[39;49m\u001b[43mparams\u001b[49m\u001b[43m[\u001b[49m\u001b[38;5;124;43m\"\u001b[39;49m\u001b[38;5;124;43mfile\u001b[39;49m\u001b[38;5;124;43m\"\u001b[39;49m\u001b[43m]\u001b[49m\u001b[43m,\u001b[49m\n\u001b[0;32m    828\u001b[0m \u001b[43m    \u001b[49m\u001b[43mresponse_type\u001b[49m\u001b[38;5;241;43m=\u001b[39;49m\u001b[38;5;28;43mself\u001b[39;49m\u001b[38;5;241;43m.\u001b[39;49m\u001b[43msettings\u001b[49m\u001b[43m[\u001b[49m\u001b[38;5;124;43m\"\u001b[39;49m\u001b[38;5;124;43mresponse_type\u001b[39;49m\u001b[38;5;124;43m\"\u001b[39;49m\u001b[43m]\u001b[49m\u001b[43m,\u001b[49m\n\u001b[0;32m    829\u001b[0m \u001b[43m    \u001b[49m\u001b[43mauth_settings\u001b[49m\u001b[38;5;241;43m=\u001b[39;49m\u001b[38;5;28;43mself\u001b[39;49m\u001b[38;5;241;43m.\u001b[39;49m\u001b[43msettings\u001b[49m\u001b[43m[\u001b[49m\u001b[38;5;124;43m\"\u001b[39;49m\u001b[38;5;124;43mauth\u001b[39;49m\u001b[38;5;124;43m\"\u001b[39;49m\u001b[43m]\u001b[49m\u001b[43m,\u001b[49m\n\u001b[0;32m    830\u001b[0m \u001b[43m    \u001b[49m\u001b[43masync_req\u001b[49m\u001b[38;5;241;43m=\u001b[39;49m\u001b[43mkwargs\u001b[49m\u001b[43m[\u001b[49m\u001b[38;5;124;43m\"\u001b[39;49m\u001b[38;5;124;43masync_req\u001b[39;49m\u001b[38;5;124;43m\"\u001b[39;49m\u001b[43m]\u001b[49m\u001b[43m,\u001b[49m\n\u001b[0;32m    831\u001b[0m \u001b[43m    \u001b[49m\u001b[43m_check_type\u001b[49m\u001b[38;5;241;43m=\u001b[39;49m\u001b[43mkwargs\u001b[49m\u001b[43m[\u001b[49m\u001b[38;5;124;43m\"\u001b[39;49m\u001b[38;5;124;43m_check_return_type\u001b[39;49m\u001b[38;5;124;43m\"\u001b[39;49m\u001b[43m]\u001b[49m\u001b[43m,\u001b[49m\n\u001b[0;32m    832\u001b[0m \u001b[43m    \u001b[49m\u001b[43m_return_http_data_only\u001b[49m\u001b[38;5;241;43m=\u001b[39;49m\u001b[43mkwargs\u001b[49m\u001b[43m[\u001b[49m\u001b[38;5;124;43m\"\u001b[39;49m\u001b[38;5;124;43m_return_http_data_only\u001b[39;49m\u001b[38;5;124;43m\"\u001b[39;49m\u001b[43m]\u001b[49m\u001b[43m,\u001b[49m\n\u001b[0;32m    833\u001b[0m \u001b[43m    \u001b[49m\u001b[43m_preload_content\u001b[49m\u001b[38;5;241;43m=\u001b[39;49m\u001b[43mkwargs\u001b[49m\u001b[43m[\u001b[49m\u001b[38;5;124;43m\"\u001b[39;49m\u001b[38;5;124;43m_preload_content\u001b[39;49m\u001b[38;5;124;43m\"\u001b[39;49m\u001b[43m]\u001b[49m\u001b[43m,\u001b[49m\n\u001b[0;32m    834\u001b[0m \u001b[43m    \u001b[49m\u001b[43m_request_timeout\u001b[49m\u001b[38;5;241;43m=\u001b[39;49m\u001b[43mkwargs\u001b[49m\u001b[43m[\u001b[49m\u001b[38;5;124;43m\"\u001b[39;49m\u001b[38;5;124;43m_request_timeout\u001b[39;49m\u001b[38;5;124;43m\"\u001b[39;49m\u001b[43m]\u001b[49m\u001b[43m,\u001b[49m\n\u001b[0;32m    835\u001b[0m \u001b[43m    \u001b[49m\u001b[43m_host\u001b[49m\u001b[38;5;241;43m=\u001b[39;49m\u001b[43m_host\u001b[49m\u001b[43m,\u001b[49m\n\u001b[0;32m    836\u001b[0m \u001b[43m    \u001b[49m\u001b[43mcollection_formats\u001b[49m\u001b[38;5;241;43m=\u001b[39;49m\u001b[43mparams\u001b[49m\u001b[43m[\u001b[49m\u001b[38;5;124;43m\"\u001b[39;49m\u001b[38;5;124;43mcollection_format\u001b[39;49m\u001b[38;5;124;43m\"\u001b[39;49m\u001b[43m]\u001b[49m\u001b[43m,\u001b[49m\n\u001b[0;32m    837\u001b[0m \u001b[43m\u001b[49m\u001b[43m)\u001b[49m\n",
      "File \u001b[1;32mc:\\Users\\ashut\\AppData\\Local\\Programs\\Python\\Python310\\lib\\site-packages\\pinecone\\core\\openapi\\shared\\api_client.py:380\u001b[0m, in \u001b[0;36mApiClient.call_api\u001b[1;34m(self, resource_path, method, path_params, query_params, header_params, body, post_params, files, response_type, auth_settings, async_req, _return_http_data_only, collection_formats, _preload_content, _request_timeout, _host, _check_type)\u001b[0m\n\u001b[0;32m    326\u001b[0m \u001b[38;5;250m\u001b[39m\u001b[38;5;124;03m\"\"\"Makes the HTTP request (synchronous) and returns deserialized data.\u001b[39;00m\n\u001b[0;32m    327\u001b[0m \n\u001b[0;32m    328\u001b[0m \u001b[38;5;124;03mTo make an async_req request, set the async_req parameter.\u001b[39;00m\n\u001b[1;32m   (...)\u001b[0m\n\u001b[0;32m    377\u001b[0m \u001b[38;5;124;03m    then the method will return the response directly.\u001b[39;00m\n\u001b[0;32m    378\u001b[0m \u001b[38;5;124;03m\"\"\"\u001b[39;00m\n\u001b[0;32m    379\u001b[0m \u001b[38;5;28;01mif\u001b[39;00m \u001b[38;5;129;01mnot\u001b[39;00m async_req:\n\u001b[1;32m--> 380\u001b[0m     \u001b[38;5;28;01mreturn\u001b[39;00m \u001b[38;5;28;43mself\u001b[39;49m\u001b[38;5;241;43m.\u001b[39;49m\u001b[43m__call_api\u001b[49m\u001b[43m(\u001b[49m\n\u001b[0;32m    381\u001b[0m \u001b[43m        \u001b[49m\u001b[43mresource_path\u001b[49m\u001b[43m,\u001b[49m\n\u001b[0;32m    382\u001b[0m \u001b[43m        \u001b[49m\u001b[43mmethod\u001b[49m\u001b[43m,\u001b[49m\n\u001b[0;32m    383\u001b[0m \u001b[43m        \u001b[49m\u001b[43mpath_params\u001b[49m\u001b[43m,\u001b[49m\n\u001b[0;32m    384\u001b[0m \u001b[43m        \u001b[49m\u001b[43mquery_params\u001b[49m\u001b[43m,\u001b[49m\n\u001b[0;32m    385\u001b[0m \u001b[43m        \u001b[49m\u001b[43mheader_params\u001b[49m\u001b[43m,\u001b[49m\n\u001b[0;32m    386\u001b[0m \u001b[43m        \u001b[49m\u001b[43mbody\u001b[49m\u001b[43m,\u001b[49m\n\u001b[0;32m    387\u001b[0m \u001b[43m        \u001b[49m\u001b[43mpost_params\u001b[49m\u001b[43m,\u001b[49m\n\u001b[0;32m    388\u001b[0m \u001b[43m        \u001b[49m\u001b[43mfiles\u001b[49m\u001b[43m,\u001b[49m\n\u001b[0;32m    389\u001b[0m \u001b[43m        \u001b[49m\u001b[43mresponse_type\u001b[49m\u001b[43m,\u001b[49m\n\u001b[0;32m    390\u001b[0m \u001b[43m        \u001b[49m\u001b[43mauth_settings\u001b[49m\u001b[43m,\u001b[49m\n\u001b[0;32m    391\u001b[0m \u001b[43m        \u001b[49m\u001b[43m_return_http_data_only\u001b[49m\u001b[43m,\u001b[49m\n\u001b[0;32m    392\u001b[0m \u001b[43m        \u001b[49m\u001b[43mcollection_formats\u001b[49m\u001b[43m,\u001b[49m\n\u001b[0;32m    393\u001b[0m \u001b[43m        \u001b[49m\u001b[43m_preload_content\u001b[49m\u001b[43m,\u001b[49m\n\u001b[0;32m    394\u001b[0m \u001b[43m        \u001b[49m\u001b[43m_request_timeout\u001b[49m\u001b[43m,\u001b[49m\n\u001b[0;32m    395\u001b[0m \u001b[43m        \u001b[49m\u001b[43m_host\u001b[49m\u001b[43m,\u001b[49m\n\u001b[0;32m    396\u001b[0m \u001b[43m        \u001b[49m\u001b[43m_check_type\u001b[49m\u001b[43m,\u001b[49m\n\u001b[0;32m    397\u001b[0m \u001b[43m    \u001b[49m\u001b[43m)\u001b[49m\n\u001b[0;32m    399\u001b[0m \u001b[38;5;28;01mreturn\u001b[39;00m \u001b[38;5;28mself\u001b[39m\u001b[38;5;241m.\u001b[39mpool\u001b[38;5;241m.\u001b[39mapply_async(\n\u001b[0;32m    400\u001b[0m     \u001b[38;5;28mself\u001b[39m\u001b[38;5;241m.\u001b[39m__call_api,\n\u001b[0;32m    401\u001b[0m     (\n\u001b[1;32m   (...)\u001b[0m\n\u001b[0;32m    418\u001b[0m     ),\n\u001b[0;32m    419\u001b[0m )\n",
      "File \u001b[1;32mc:\\Users\\ashut\\AppData\\Local\\Programs\\Python\\Python310\\lib\\site-packages\\pinecone\\core\\openapi\\shared\\api_client.py:187\u001b[0m, in \u001b[0;36mApiClient.__call_api\u001b[1;34m(self, resource_path, method, path_params, query_params, header_params, body, post_params, files, response_type, auth_settings, _return_http_data_only, collection_formats, _preload_content, _request_timeout, _host, _check_type)\u001b[0m\n\u001b[0;32m    185\u001b[0m \u001b[38;5;28;01mexcept\u001b[39;00m PineconeApiException \u001b[38;5;28;01mas\u001b[39;00m e:\n\u001b[0;32m    186\u001b[0m     e\u001b[38;5;241m.\u001b[39mbody \u001b[38;5;241m=\u001b[39m e\u001b[38;5;241m.\u001b[39mbody\u001b[38;5;241m.\u001b[39mdecode(\u001b[38;5;124m\"\u001b[39m\u001b[38;5;124mutf-8\u001b[39m\u001b[38;5;124m\"\u001b[39m)\n\u001b[1;32m--> 187\u001b[0m     \u001b[38;5;28;01mraise\u001b[39;00m e\n\u001b[0;32m    189\u001b[0m \u001b[38;5;28mself\u001b[39m\u001b[38;5;241m.\u001b[39mlast_response \u001b[38;5;241m=\u001b[39m response_data\n\u001b[0;32m    191\u001b[0m return_data \u001b[38;5;241m=\u001b[39m response_data\n",
      "File \u001b[1;32mc:\\Users\\ashut\\AppData\\Local\\Programs\\Python\\Python310\\lib\\site-packages\\pinecone\\core\\openapi\\shared\\api_client.py:175\u001b[0m, in \u001b[0;36mApiClient.__call_api\u001b[1;34m(self, resource_path, method, path_params, query_params, header_params, body, post_params, files, response_type, auth_settings, _return_http_data_only, collection_formats, _preload_content, _request_timeout, _host, _check_type)\u001b[0m\n\u001b[0;32m    171\u001b[0m     url \u001b[38;5;241m=\u001b[39m _host \u001b[38;5;241m+\u001b[39m resource_path\n\u001b[0;32m    173\u001b[0m \u001b[38;5;28;01mtry\u001b[39;00m:\n\u001b[0;32m    174\u001b[0m     \u001b[38;5;66;03m# perform request and return response\u001b[39;00m\n\u001b[1;32m--> 175\u001b[0m     response_data \u001b[38;5;241m=\u001b[39m \u001b[38;5;28;43mself\u001b[39;49m\u001b[38;5;241;43m.\u001b[39;49m\u001b[43mrequest\u001b[49m\u001b[43m(\u001b[49m\n\u001b[0;32m    176\u001b[0m \u001b[43m        \u001b[49m\u001b[43mmethod\u001b[49m\u001b[43m,\u001b[49m\n\u001b[0;32m    177\u001b[0m \u001b[43m        \u001b[49m\u001b[43murl\u001b[49m\u001b[43m,\u001b[49m\n\u001b[0;32m    178\u001b[0m \u001b[43m        \u001b[49m\u001b[43mquery_params\u001b[49m\u001b[38;5;241;43m=\u001b[39;49m\u001b[43mquery_params\u001b[49m\u001b[43m,\u001b[49m\n\u001b[0;32m    179\u001b[0m \u001b[43m        \u001b[49m\u001b[43mheaders\u001b[49m\u001b[38;5;241;43m=\u001b[39;49m\u001b[43mheader_params\u001b[49m\u001b[43m,\u001b[49m\n\u001b[0;32m    180\u001b[0m \u001b[43m        \u001b[49m\u001b[43mpost_params\u001b[49m\u001b[38;5;241;43m=\u001b[39;49m\u001b[43mpost_params\u001b[49m\u001b[43m,\u001b[49m\n\u001b[0;32m    181\u001b[0m \u001b[43m        \u001b[49m\u001b[43mbody\u001b[49m\u001b[38;5;241;43m=\u001b[39;49m\u001b[43mbody\u001b[49m\u001b[43m,\u001b[49m\n\u001b[0;32m    182\u001b[0m \u001b[43m        \u001b[49m\u001b[43m_preload_content\u001b[49m\u001b[38;5;241;43m=\u001b[39;49m\u001b[43m_preload_content\u001b[49m\u001b[43m,\u001b[49m\n\u001b[0;32m    183\u001b[0m \u001b[43m        \u001b[49m\u001b[43m_request_timeout\u001b[49m\u001b[38;5;241;43m=\u001b[39;49m\u001b[43m_request_timeout\u001b[49m\u001b[43m,\u001b[49m\n\u001b[0;32m    184\u001b[0m \u001b[43m    \u001b[49m\u001b[43m)\u001b[49m\n\u001b[0;32m    185\u001b[0m \u001b[38;5;28;01mexcept\u001b[39;00m PineconeApiException \u001b[38;5;28;01mas\u001b[39;00m e:\n\u001b[0;32m    186\u001b[0m     e\u001b[38;5;241m.\u001b[39mbody \u001b[38;5;241m=\u001b[39m e\u001b[38;5;241m.\u001b[39mbody\u001b[38;5;241m.\u001b[39mdecode(\u001b[38;5;124m\"\u001b[39m\u001b[38;5;124mutf-8\u001b[39m\u001b[38;5;124m\"\u001b[39m)\n",
      "File \u001b[1;32mc:\\Users\\ashut\\AppData\\Local\\Programs\\Python\\Python310\\lib\\site-packages\\pinecone\\core\\openapi\\shared\\api_client.py:460\u001b[0m, in \u001b[0;36mApiClient.request\u001b[1;34m(self, method, url, query_params, headers, post_params, body, _preload_content, _request_timeout)\u001b[0m\n\u001b[0;32m    450\u001b[0m     \u001b[38;5;28;01mreturn\u001b[39;00m \u001b[38;5;28mself\u001b[39m\u001b[38;5;241m.\u001b[39mrest_client\u001b[38;5;241m.\u001b[39mOPTIONS(\n\u001b[0;32m    451\u001b[0m         url,\n\u001b[0;32m    452\u001b[0m         query_params\u001b[38;5;241m=\u001b[39mquery_params,\n\u001b[1;32m   (...)\u001b[0m\n\u001b[0;32m    457\u001b[0m         body\u001b[38;5;241m=\u001b[39mbody,\n\u001b[0;32m    458\u001b[0m     )\n\u001b[0;32m    459\u001b[0m \u001b[38;5;28;01melif\u001b[39;00m method \u001b[38;5;241m==\u001b[39m \u001b[38;5;124m\"\u001b[39m\u001b[38;5;124mPOST\u001b[39m\u001b[38;5;124m\"\u001b[39m:\n\u001b[1;32m--> 460\u001b[0m     \u001b[38;5;28;01mreturn\u001b[39;00m \u001b[38;5;28;43mself\u001b[39;49m\u001b[38;5;241;43m.\u001b[39;49m\u001b[43mrest_client\u001b[49m\u001b[38;5;241;43m.\u001b[39;49m\u001b[43mPOST\u001b[49m\u001b[43m(\u001b[49m\n\u001b[0;32m    461\u001b[0m \u001b[43m        \u001b[49m\u001b[43murl\u001b[49m\u001b[43m,\u001b[49m\n\u001b[0;32m    462\u001b[0m \u001b[43m        \u001b[49m\u001b[43mquery_params\u001b[49m\u001b[38;5;241;43m=\u001b[39;49m\u001b[43mquery_params\u001b[49m\u001b[43m,\u001b[49m\n\u001b[0;32m    463\u001b[0m \u001b[43m        \u001b[49m\u001b[43mheaders\u001b[49m\u001b[38;5;241;43m=\u001b[39;49m\u001b[43mheaders\u001b[49m\u001b[43m,\u001b[49m\n\u001b[0;32m    464\u001b[0m \u001b[43m        \u001b[49m\u001b[43mpost_params\u001b[49m\u001b[38;5;241;43m=\u001b[39;49m\u001b[43mpost_params\u001b[49m\u001b[43m,\u001b[49m\n\u001b[0;32m    465\u001b[0m \u001b[43m        \u001b[49m\u001b[43m_preload_content\u001b[49m\u001b[38;5;241;43m=\u001b[39;49m\u001b[43m_preload_content\u001b[49m\u001b[43m,\u001b[49m\n\u001b[0;32m    466\u001b[0m \u001b[43m        \u001b[49m\u001b[43m_request_timeout\u001b[49m\u001b[38;5;241;43m=\u001b[39;49m\u001b[43m_request_timeout\u001b[49m\u001b[43m,\u001b[49m\n\u001b[0;32m    467\u001b[0m \u001b[43m        \u001b[49m\u001b[43mbody\u001b[49m\u001b[38;5;241;43m=\u001b[39;49m\u001b[43mbody\u001b[49m\u001b[43m,\u001b[49m\n\u001b[0;32m    468\u001b[0m \u001b[43m    \u001b[49m\u001b[43m)\u001b[49m\n\u001b[0;32m    469\u001b[0m \u001b[38;5;28;01melif\u001b[39;00m method \u001b[38;5;241m==\u001b[39m \u001b[38;5;124m\"\u001b[39m\u001b[38;5;124mPUT\u001b[39m\u001b[38;5;124m\"\u001b[39m:\n\u001b[0;32m    470\u001b[0m     \u001b[38;5;28;01mreturn\u001b[39;00m \u001b[38;5;28mself\u001b[39m\u001b[38;5;241m.\u001b[39mrest_client\u001b[38;5;241m.\u001b[39mPUT(\n\u001b[0;32m    471\u001b[0m         url,\n\u001b[0;32m    472\u001b[0m         query_params\u001b[38;5;241m=\u001b[39mquery_params,\n\u001b[1;32m   (...)\u001b[0m\n\u001b[0;32m    477\u001b[0m         body\u001b[38;5;241m=\u001b[39mbody,\n\u001b[0;32m    478\u001b[0m     )\n",
      "File \u001b[1;32mc:\\Users\\ashut\\AppData\\Local\\Programs\\Python\\Python310\\lib\\site-packages\\pinecone\\core\\openapi\\shared\\rest.py:345\u001b[0m, in \u001b[0;36mRESTClientObject.POST\u001b[1;34m(self, url, headers, query_params, post_params, body, _preload_content, _request_timeout)\u001b[0m\n\u001b[0;32m    335\u001b[0m \u001b[38;5;28;01mdef\u001b[39;00m \u001b[38;5;21mPOST\u001b[39m(\n\u001b[0;32m    336\u001b[0m     \u001b[38;5;28mself\u001b[39m,\n\u001b[0;32m    337\u001b[0m     url,\n\u001b[1;32m   (...)\u001b[0m\n\u001b[0;32m    343\u001b[0m     _request_timeout\u001b[38;5;241m=\u001b[39m\u001b[38;5;28;01mNone\u001b[39;00m,\n\u001b[0;32m    344\u001b[0m ):\n\u001b[1;32m--> 345\u001b[0m     \u001b[38;5;28;01mreturn\u001b[39;00m \u001b[38;5;28;43mself\u001b[39;49m\u001b[38;5;241;43m.\u001b[39;49m\u001b[43mrequest\u001b[49m\u001b[43m(\u001b[49m\n\u001b[0;32m    346\u001b[0m \u001b[43m        \u001b[49m\u001b[38;5;124;43m\"\u001b[39;49m\u001b[38;5;124;43mPOST\u001b[39;49m\u001b[38;5;124;43m\"\u001b[39;49m\u001b[43m,\u001b[49m\n\u001b[0;32m    347\u001b[0m \u001b[43m        \u001b[49m\u001b[43murl\u001b[49m\u001b[43m,\u001b[49m\n\u001b[0;32m    348\u001b[0m \u001b[43m        \u001b[49m\u001b[43mheaders\u001b[49m\u001b[38;5;241;43m=\u001b[39;49m\u001b[43mheaders\u001b[49m\u001b[43m,\u001b[49m\n\u001b[0;32m    349\u001b[0m \u001b[43m        \u001b[49m\u001b[43mquery_params\u001b[49m\u001b[38;5;241;43m=\u001b[39;49m\u001b[43mquery_params\u001b[49m\u001b[43m,\u001b[49m\n\u001b[0;32m    350\u001b[0m \u001b[43m        \u001b[49m\u001b[43mpost_params\u001b[49m\u001b[38;5;241;43m=\u001b[39;49m\u001b[43mpost_params\u001b[49m\u001b[43m,\u001b[49m\n\u001b[0;32m    351\u001b[0m \u001b[43m        \u001b[49m\u001b[43m_preload_content\u001b[49m\u001b[38;5;241;43m=\u001b[39;49m\u001b[43m_preload_content\u001b[49m\u001b[43m,\u001b[49m\n\u001b[0;32m    352\u001b[0m \u001b[43m        \u001b[49m\u001b[43m_request_timeout\u001b[49m\u001b[38;5;241;43m=\u001b[39;49m\u001b[43m_request_timeout\u001b[49m\u001b[43m,\u001b[49m\n\u001b[0;32m    353\u001b[0m \u001b[43m        \u001b[49m\u001b[43mbody\u001b[49m\u001b[38;5;241;43m=\u001b[39;49m\u001b[43mbody\u001b[49m\u001b[43m,\u001b[49m\n\u001b[0;32m    354\u001b[0m \u001b[43m    \u001b[49m\u001b[43m)\u001b[49m\n",
      "File \u001b[1;32mc:\\Users\\ashut\\AppData\\Local\\Programs\\Python\\Python310\\lib\\site-packages\\pinecone\\core\\openapi\\shared\\rest.py:279\u001b[0m, in \u001b[0;36mRESTClientObject.request\u001b[1;34m(self, method, url, query_params, headers, body, post_params, _preload_content, _request_timeout)\u001b[0m\n\u001b[0;32m    276\u001b[0m     \u001b[38;5;28;01mif\u001b[39;00m \u001b[38;5;241m500\u001b[39m \u001b[38;5;241m<\u001b[39m\u001b[38;5;241m=\u001b[39m r\u001b[38;5;241m.\u001b[39mstatus \u001b[38;5;241m<\u001b[39m\u001b[38;5;241m=\u001b[39m \u001b[38;5;241m599\u001b[39m:\n\u001b[0;32m    277\u001b[0m         \u001b[38;5;28;01mraise\u001b[39;00m ServiceException(http_resp\u001b[38;5;241m=\u001b[39mr)\n\u001b[1;32m--> 279\u001b[0m     \u001b[38;5;28;01mraise\u001b[39;00m PineconeApiException(http_resp\u001b[38;5;241m=\u001b[39mr)\n\u001b[0;32m    281\u001b[0m \u001b[38;5;28;01mreturn\u001b[39;00m r\n",
      "\u001b[1;31mPineconeApiException\u001b[0m: (400)\nReason: Bad Request\nHTTP response headers: HTTPHeaderDict({'Date': 'Mon, 30 Sep 2024 22:41:12 GMT', 'Content-Type': 'application/json', 'Content-Length': '137', 'Connection': 'keep-alive', 'x-pinecone-request-latency-ms': '1', 'x-pinecone-request-id': '3019207225874154891', 'x-envoy-upstream-service-time': '1', 'server': 'envoy'})\nHTTP response body: {\"code\":3,\"message\":\"the $in operator must be followed by a list of strings or a list of numbers, got \\\"Yuexi Du\\\" instead\",\"details\":[]}\n"
     ]
    }
   ],
   "source": [
    "author_name = \"Yuexi Du\"\n",
    "query = \"give the research paper by published on september\"\n",
    "# Retrieve and filter results by author\n",
    "retrieve_from_pinecone(query, top_k=10, author_name=author_name)"
   ]
  },
  {
   "cell_type": "code",
   "execution_count": 67,
   "metadata": {},
   "outputs": [
    {
     "name": "stdout",
     "output_type": "stream",
     "text": [
      "Extracted Author from query: Yuexi Du\n",
      "Matched authors: Yuexi Du\n"
     ]
    },
    {
     "ename": "TypeError",
     "evalue": "'>' not supported between instances of 'str' and 'int'",
     "output_type": "error",
     "traceback": [
      "\u001b[1;31m---------------------------------------------------------------------------\u001b[0m",
      "\u001b[1;31mTypeError\u001b[0m                                 Traceback (most recent call last)",
      "Cell \u001b[1;32mIn[67], line 18\u001b[0m\n\u001b[0;32m     14\u001b[0m     \u001b[38;5;28mprint\u001b[39m(\u001b[38;5;124mf\u001b[39m\u001b[38;5;124m\"\u001b[39m\u001b[38;5;124mMatched authors: \u001b[39m\u001b[38;5;132;01m{\u001b[39;00mmatched_author_names[\u001b[38;5;241m0\u001b[39m]\u001b[38;5;132;01m}\u001b[39;00m\u001b[38;5;124m\"\u001b[39m)\n\u001b[0;32m     16\u001b[0m     \u001b[38;5;66;03m# Perform metadata filtering in the vector store using the matched author(s)\u001b[39;00m\n\u001b[0;32m     17\u001b[0m     \u001b[38;5;66;03m# Assuming you have a `Pinecone` index connected already\u001b[39;00m\n\u001b[1;32m---> 18\u001b[0m     \u001b[43mretrieve_from_pinecone\u001b[49m\u001b[43m(\u001b[49m\u001b[43mquery\u001b[49m\u001b[43m,\u001b[49m\u001b[43m \u001b[49m\u001b[43mmatched_author_names\u001b[49m\u001b[43m)\u001b[49m\n\u001b[0;32m     19\u001b[0m \u001b[38;5;28;01melse\u001b[39;00m:\n\u001b[0;32m     20\u001b[0m     \u001b[38;5;28mprint\u001b[39m(\u001b[38;5;124m\"\u001b[39m\u001b[38;5;124mNo matching authors found.\u001b[39m\u001b[38;5;124m\"\u001b[39m)\n",
      "Cell \u001b[1;32mIn[58], line 20\u001b[0m, in \u001b[0;36mretrieve_from_pinecone\u001b[1;34m(query_text, top_k, author_name)\u001b[0m\n\u001b[0;32m     15\u001b[0m     metadata_filter \u001b[38;5;241m=\u001b[39m {\n\u001b[0;32m     16\u001b[0m         \u001b[38;5;124m\"\u001b[39m\u001b[38;5;124mAuthor\u001b[39m\u001b[38;5;124m\"\u001b[39m: {\u001b[38;5;124m\"\u001b[39m\u001b[38;5;124m$in\u001b[39m\u001b[38;5;124m\"\u001b[39m: author_name}  \u001b[38;5;66;03m# Filter using the $in operator for the author name\u001b[39;00m\n\u001b[0;32m     17\u001b[0m     }\n\u001b[0;32m     19\u001b[0m \u001b[38;5;66;03m# Perform similarity search in Pinecone with metadata filtering\u001b[39;00m\n\u001b[1;32m---> 20\u001b[0m results \u001b[38;5;241m=\u001b[39m \u001b[43mindex\u001b[49m\u001b[38;5;241;43m.\u001b[39;49m\u001b[43mquery\u001b[49m\u001b[43m(\u001b[49m\n\u001b[0;32m     21\u001b[0m \u001b[43m    \u001b[49m\u001b[43mvector\u001b[49m\u001b[38;5;241;43m=\u001b[39;49m\u001b[43mquery_embedding\u001b[49m\u001b[43m,\u001b[49m\n\u001b[0;32m     22\u001b[0m \u001b[43m    \u001b[49m\u001b[43mtop_k\u001b[49m\u001b[38;5;241;43m=\u001b[39;49m\u001b[43mtop_k\u001b[49m\u001b[43m,\u001b[49m\n\u001b[0;32m     23\u001b[0m \u001b[43m    \u001b[49m\u001b[43minclude_values\u001b[49m\u001b[38;5;241;43m=\u001b[39;49m\u001b[38;5;28;43;01mTrue\u001b[39;49;00m\u001b[43m,\u001b[49m\n\u001b[0;32m     24\u001b[0m \u001b[43m    \u001b[49m\u001b[43minclude_metadata\u001b[49m\u001b[38;5;241;43m=\u001b[39;49m\u001b[38;5;28;43;01mTrue\u001b[39;49;00m\u001b[43m,\u001b[49m\n\u001b[0;32m     25\u001b[0m \u001b[43m    \u001b[49m\u001b[38;5;28;43mfilter\u001b[39;49m\u001b[38;5;241;43m=\u001b[39;49m\u001b[43mmetadata_filter\u001b[49m\u001b[43m  \u001b[49m\u001b[38;5;66;43;03m# Apply the metadata filter\u001b[39;49;00m\n\u001b[0;32m     26\u001b[0m \u001b[43m\u001b[49m\u001b[43m)\u001b[49m\n\u001b[0;32m     28\u001b[0m \u001b[38;5;66;03m# Display the results\u001b[39;00m\n\u001b[0;32m     29\u001b[0m \u001b[38;5;28mprint\u001b[39m(\u001b[38;5;124mf\u001b[39m\u001b[38;5;124m\"\u001b[39m\u001b[38;5;124mTop \u001b[39m\u001b[38;5;132;01m{\u001b[39;00mtop_k\u001b[38;5;132;01m}\u001b[39;00m\u001b[38;5;124m results for the query \u001b[39m\u001b[38;5;124m'\u001b[39m\u001b[38;5;132;01m{\u001b[39;00mquery_text\u001b[38;5;132;01m}\u001b[39;00m\u001b[38;5;124m'\u001b[39m\u001b[38;5;124m with author filtering:\u001b[39m\u001b[38;5;124m\"\u001b[39m)\n",
      "File \u001b[1;32mc:\\Users\\ashut\\AppData\\Local\\Programs\\Python\\Python310\\lib\\site-packages\\pinecone\\utils\\error_handling.py:11\u001b[0m, in \u001b[0;36mvalidate_and_convert_errors.<locals>.inner_func\u001b[1;34m(*args, **kwargs)\u001b[0m\n\u001b[0;32m      8\u001b[0m \u001b[38;5;129m@wraps\u001b[39m(func)\n\u001b[0;32m      9\u001b[0m \u001b[38;5;28;01mdef\u001b[39;00m \u001b[38;5;21minner_func\u001b[39m(\u001b[38;5;241m*\u001b[39margs, \u001b[38;5;241m*\u001b[39m\u001b[38;5;241m*\u001b[39mkwargs):\n\u001b[0;32m     10\u001b[0m     \u001b[38;5;28;01mtry\u001b[39;00m:\n\u001b[1;32m---> 11\u001b[0m         \u001b[38;5;28;01mreturn\u001b[39;00m func(\u001b[38;5;241m*\u001b[39margs, \u001b[38;5;241m*\u001b[39m\u001b[38;5;241m*\u001b[39mkwargs)\n\u001b[0;32m     12\u001b[0m     \u001b[38;5;28;01mexcept\u001b[39;00m MaxRetryError \u001b[38;5;28;01mas\u001b[39;00m e:\n\u001b[0;32m     13\u001b[0m         \u001b[38;5;28;01mif\u001b[39;00m \u001b[38;5;28misinstance\u001b[39m(e\u001b[38;5;241m.\u001b[39mreason, ProtocolError):\n",
      "File \u001b[1;32mc:\\Users\\ashut\\AppData\\Local\\Programs\\Python\\Python310\\lib\\site-packages\\pinecone\\data\\index.py:430\u001b[0m, in \u001b[0;36mIndex.query\u001b[1;34m(self, top_k, vector, id, namespace, filter, include_values, include_metadata, sparse_vector, *args, **kwargs)\u001b[0m\n\u001b[0;32m    415\u001b[0m sparse_vector \u001b[38;5;241m=\u001b[39m \u001b[38;5;28mself\u001b[39m\u001b[38;5;241m.\u001b[39m_parse_sparse_values_arg(sparse_vector)\n\u001b[0;32m    416\u001b[0m args_dict \u001b[38;5;241m=\u001b[39m \u001b[38;5;28mself\u001b[39m\u001b[38;5;241m.\u001b[39m_parse_non_empty_args(\n\u001b[0;32m    417\u001b[0m     [\n\u001b[0;32m    418\u001b[0m         (\u001b[38;5;124m\"\u001b[39m\u001b[38;5;124mvector\u001b[39m\u001b[38;5;124m\"\u001b[39m, vector),\n\u001b[1;32m   (...)\u001b[0m\n\u001b[0;32m    427\u001b[0m     ]\n\u001b[0;32m    428\u001b[0m )\n\u001b[0;32m    429\u001b[0m response \u001b[38;5;241m=\u001b[39m \u001b[38;5;28mself\u001b[39m\u001b[38;5;241m.\u001b[39m_vector_api\u001b[38;5;241m.\u001b[39mquery(\n\u001b[1;32m--> 430\u001b[0m     QueryRequest(\n\u001b[0;32m    431\u001b[0m         \u001b[38;5;241m*\u001b[39m\u001b[38;5;241m*\u001b[39margs_dict,\n\u001b[0;32m    432\u001b[0m         _check_type\u001b[38;5;241m=\u001b[39m_check_type,\n\u001b[0;32m    433\u001b[0m         \u001b[38;5;241m*\u001b[39m\u001b[38;5;241m*\u001b[39m{k: v \u001b[38;5;28;01mfor\u001b[39;00m k, v \u001b[38;5;129;01min\u001b[39;00m kwargs\u001b[38;5;241m.\u001b[39mitems() \u001b[38;5;28;01mif\u001b[39;00m k \u001b[38;5;129;01mnot\u001b[39;00m \u001b[38;5;129;01min\u001b[39;00m _OPENAPI_ENDPOINT_PARAMS},\n\u001b[0;32m    434\u001b[0m     ),\n\u001b[0;32m    435\u001b[0m     \u001b[38;5;241m*\u001b[39m\u001b[38;5;241m*\u001b[39m{k: v \u001b[38;5;28;01mfor\u001b[39;00m k, v \u001b[38;5;129;01min\u001b[39;00m kwargs\u001b[38;5;241m.\u001b[39mitems() \u001b[38;5;28;01mif\u001b[39;00m k \u001b[38;5;129;01min\u001b[39;00m _OPENAPI_ENDPOINT_PARAMS},\n\u001b[0;32m    436\u001b[0m )\n\u001b[0;32m    437\u001b[0m \u001b[38;5;28;01mreturn\u001b[39;00m parse_query_response(response)\n",
      "File \u001b[1;32mc:\\Users\\ashut\\AppData\\Local\\Programs\\Python\\Python310\\lib\\site-packages\\pinecone\\core\\openapi\\shared\\model_utils.py:33\u001b[0m, in \u001b[0;36mconvert_js_args_to_python_args.<locals>.wrapped_init\u001b[1;34m(_self, *args, **kwargs)\u001b[0m\n\u001b[0;32m     31\u001b[0m \u001b[38;5;28;01mif\u001b[39;00m spec_property_naming:\n\u001b[0;32m     32\u001b[0m     kwargs \u001b[38;5;241m=\u001b[39m change_keys_js_to_python(kwargs, _self \u001b[38;5;28;01mif\u001b[39;00m \u001b[38;5;28misinstance\u001b[39m(_self, \u001b[38;5;28mtype\u001b[39m) \u001b[38;5;28;01melse\u001b[39;00m _self\u001b[38;5;241m.\u001b[39m\u001b[38;5;18m__class__\u001b[39m)\n\u001b[1;32m---> 33\u001b[0m \u001b[38;5;28;01mreturn\u001b[39;00m fn(_self, \u001b[38;5;241m*\u001b[39margs, \u001b[38;5;241m*\u001b[39m\u001b[38;5;241m*\u001b[39mkwargs)\n",
      "File \u001b[1;32mc:\\Users\\ashut\\AppData\\Local\\Programs\\Python\\Python310\\lib\\site-packages\\pinecone\\core\\openapi\\data\\model\\query_request.py:313\u001b[0m, in \u001b[0;36mQueryRequest.__init__\u001b[1;34m(self, top_k, *args, **kwargs)\u001b[0m\n\u001b[0;32m    310\u001b[0m \u001b[38;5;28mself\u001b[39m\u001b[38;5;241m.\u001b[39m_configuration \u001b[38;5;241m=\u001b[39m _configuration\n\u001b[0;32m    311\u001b[0m \u001b[38;5;28mself\u001b[39m\u001b[38;5;241m.\u001b[39m_visited_composed_classes \u001b[38;5;241m=\u001b[39m _visited_composed_classes \u001b[38;5;241m+\u001b[39m (\u001b[38;5;28mself\u001b[39m\u001b[38;5;241m.\u001b[39m\u001b[38;5;18m__class__\u001b[39m,)\n\u001b[1;32m--> 313\u001b[0m \u001b[38;5;28;43mself\u001b[39;49m\u001b[38;5;241;43m.\u001b[39;49m\u001b[43mtop_k\u001b[49m \u001b[38;5;241m=\u001b[39m top_k\n\u001b[0;32m    314\u001b[0m \u001b[38;5;28;01mfor\u001b[39;00m var_name, var_value \u001b[38;5;129;01min\u001b[39;00m kwargs\u001b[38;5;241m.\u001b[39mitems():\n\u001b[0;32m    315\u001b[0m     \u001b[38;5;28;01mif\u001b[39;00m (\n\u001b[0;32m    316\u001b[0m         var_name \u001b[38;5;129;01mnot\u001b[39;00m \u001b[38;5;129;01min\u001b[39;00m \u001b[38;5;28mself\u001b[39m\u001b[38;5;241m.\u001b[39mattribute_map\n\u001b[0;32m    317\u001b[0m         \u001b[38;5;129;01mand\u001b[39;00m \u001b[38;5;28mself\u001b[39m\u001b[38;5;241m.\u001b[39m_configuration \u001b[38;5;129;01mis\u001b[39;00m \u001b[38;5;129;01mnot\u001b[39;00m \u001b[38;5;28;01mNone\u001b[39;00m\n\u001b[1;32m   (...)\u001b[0m\n\u001b[0;32m    320\u001b[0m     ):\n\u001b[0;32m    321\u001b[0m         \u001b[38;5;66;03m# discard variable.\u001b[39;00m\n",
      "File \u001b[1;32mc:\\Users\\ashut\\AppData\\Local\\Programs\\Python\\Python310\\lib\\site-packages\\pinecone\\core\\openapi\\shared\\model_utils.py:156\u001b[0m, in \u001b[0;36mOpenApiModel.__setattr__\u001b[1;34m(self, attr, value)\u001b[0m\n\u001b[0;32m    154\u001b[0m \u001b[38;5;28;01mdef\u001b[39;00m \u001b[38;5;21m__setattr__\u001b[39m(\u001b[38;5;28mself\u001b[39m, attr, value):\n\u001b[0;32m    155\u001b[0m \u001b[38;5;250m    \u001b[39m\u001b[38;5;124;03m\"\"\"set the value of an attribute using dot notation: `instance.attr = val`\"\"\"\u001b[39;00m\n\u001b[1;32m--> 156\u001b[0m     \u001b[38;5;28;43mself\u001b[39;49m\u001b[43m[\u001b[49m\u001b[43mattr\u001b[49m\u001b[43m]\u001b[49m \u001b[38;5;241m=\u001b[39m value\n",
      "File \u001b[1;32mc:\\Users\\ashut\\AppData\\Local\\Programs\\Python\\Python310\\lib\\site-packages\\pinecone\\core\\openapi\\shared\\model_utils.py:432\u001b[0m, in \u001b[0;36mModelNormal.__setitem__\u001b[1;34m(self, name, value)\u001b[0m\n\u001b[0;32m    429\u001b[0m     \u001b[38;5;28mself\u001b[39m\u001b[38;5;241m.\u001b[39m\u001b[38;5;18m__dict__\u001b[39m[name] \u001b[38;5;241m=\u001b[39m value\n\u001b[0;32m    430\u001b[0m     \u001b[38;5;28;01mreturn\u001b[39;00m\n\u001b[1;32m--> 432\u001b[0m \u001b[38;5;28;43mself\u001b[39;49m\u001b[38;5;241;43m.\u001b[39;49m\u001b[43mset_attribute\u001b[49m\u001b[43m(\u001b[49m\u001b[43mname\u001b[49m\u001b[43m,\u001b[49m\u001b[43m \u001b[49m\u001b[43mvalue\u001b[49m\u001b[43m)\u001b[49m\n",
      "File \u001b[1;32mc:\\Users\\ashut\\AppData\\Local\\Programs\\Python\\Python310\\lib\\site-packages\\pinecone\\core\\openapi\\shared\\model_utils.py:143\u001b[0m, in \u001b[0;36mOpenApiModel.set_attribute\u001b[1;34m(self, name, value)\u001b[0m\n\u001b[0;32m    141\u001b[0m     check_allowed_values(\u001b[38;5;28mself\u001b[39m\u001b[38;5;241m.\u001b[39mallowed_values, (name,), value)\n\u001b[0;32m    142\u001b[0m \u001b[38;5;28;01mif\u001b[39;00m (name,) \u001b[38;5;129;01min\u001b[39;00m \u001b[38;5;28mself\u001b[39m\u001b[38;5;241m.\u001b[39mvalidations:\n\u001b[1;32m--> 143\u001b[0m     \u001b[43mcheck_validations\u001b[49m\u001b[43m(\u001b[49m\u001b[38;5;28;43mself\u001b[39;49m\u001b[38;5;241;43m.\u001b[39;49m\u001b[43mvalidations\u001b[49m\u001b[43m,\u001b[49m\u001b[43m \u001b[49m\u001b[43m(\u001b[49m\u001b[43mname\u001b[49m\u001b[43m,\u001b[49m\u001b[43m)\u001b[49m\u001b[43m,\u001b[49m\u001b[43m \u001b[49m\u001b[43mvalue\u001b[49m\u001b[43m,\u001b[49m\u001b[43m \u001b[49m\u001b[38;5;28;43mself\u001b[39;49m\u001b[38;5;241;43m.\u001b[39;49m\u001b[43m_configuration\u001b[49m\u001b[43m)\u001b[49m\n\u001b[0;32m    144\u001b[0m \u001b[38;5;28mself\u001b[39m\u001b[38;5;241m.\u001b[39m\u001b[38;5;18m__dict__\u001b[39m[\u001b[38;5;124m\"\u001b[39m\u001b[38;5;124m_data_store\u001b[39m\u001b[38;5;124m\"\u001b[39m][name] \u001b[38;5;241m=\u001b[39m value\n",
      "File \u001b[1;32mc:\\Users\\ashut\\AppData\\Local\\Programs\\Python\\Python310\\lib\\site-packages\\pinecone\\core\\openapi\\shared\\model_utils.py:890\u001b[0m, in \u001b[0;36mcheck_validations\u001b[1;34m(validations, input_variable_path, input_values, configuration)\u001b[0m\n\u001b[0;32m    877\u001b[0m \u001b[38;5;28;01mif\u001b[39;00m (\n\u001b[0;32m    878\u001b[0m     is_json_validation_enabled(\u001b[38;5;124m\"\u001b[39m\u001b[38;5;124mexclusiveMaximum\u001b[39m\u001b[38;5;124m\"\u001b[39m, configuration)\n\u001b[0;32m    879\u001b[0m     \u001b[38;5;129;01mand\u001b[39;00m \u001b[38;5;124m\"\u001b[39m\u001b[38;5;124mexclusive_maximum\u001b[39m\u001b[38;5;124m\"\u001b[39m \u001b[38;5;129;01min\u001b[39;00m current_validations\n\u001b[0;32m    880\u001b[0m     \u001b[38;5;129;01mand\u001b[39;00m max_val \u001b[38;5;241m>\u001b[39m\u001b[38;5;241m=\u001b[39m current_validations[\u001b[38;5;124m\"\u001b[39m\u001b[38;5;124mexclusive_maximum\u001b[39m\u001b[38;5;124m\"\u001b[39m]\n\u001b[0;32m    881\u001b[0m ):\n\u001b[0;32m    882\u001b[0m     \u001b[38;5;28;01mraise\u001b[39;00m PineconeApiValueError(\n\u001b[0;32m    883\u001b[0m         \u001b[38;5;124m\"\u001b[39m\u001b[38;5;124mInvalid value for `\u001b[39m\u001b[38;5;132;01m%s\u001b[39;00m\u001b[38;5;124m`, must be a value less than `\u001b[39m\u001b[38;5;132;01m%s\u001b[39;00m\u001b[38;5;124m`\u001b[39m\u001b[38;5;124m\"\u001b[39m\n\u001b[0;32m    884\u001b[0m         \u001b[38;5;241m%\u001b[39m (input_variable_path[\u001b[38;5;241m0\u001b[39m], current_validations[\u001b[38;5;124m\"\u001b[39m\u001b[38;5;124mexclusive_maximum\u001b[39m\u001b[38;5;124m\"\u001b[39m])\n\u001b[0;32m    885\u001b[0m     )\n\u001b[0;32m    887\u001b[0m \u001b[38;5;28;01mif\u001b[39;00m (\n\u001b[0;32m    888\u001b[0m     is_json_validation_enabled(\u001b[38;5;124m\"\u001b[39m\u001b[38;5;124mmaximum\u001b[39m\u001b[38;5;124m\"\u001b[39m, configuration)\n\u001b[0;32m    889\u001b[0m     \u001b[38;5;129;01mand\u001b[39;00m \u001b[38;5;124m\"\u001b[39m\u001b[38;5;124minclusive_maximum\u001b[39m\u001b[38;5;124m\"\u001b[39m \u001b[38;5;129;01min\u001b[39;00m current_validations\n\u001b[1;32m--> 890\u001b[0m     \u001b[38;5;129;01mand\u001b[39;00m \u001b[43mmax_val\u001b[49m\u001b[43m \u001b[49m\u001b[38;5;241;43m>\u001b[39;49m\u001b[43m \u001b[49m\u001b[43mcurrent_validations\u001b[49m\u001b[43m[\u001b[49m\u001b[38;5;124;43m\"\u001b[39;49m\u001b[38;5;124;43minclusive_maximum\u001b[39;49m\u001b[38;5;124;43m\"\u001b[39;49m\u001b[43m]\u001b[49m\n\u001b[0;32m    891\u001b[0m ):\n\u001b[0;32m    892\u001b[0m     \u001b[38;5;28;01mraise\u001b[39;00m PineconeApiValueError(\n\u001b[0;32m    893\u001b[0m         \u001b[38;5;124m\"\u001b[39m\u001b[38;5;124mInvalid value for `\u001b[39m\u001b[38;5;132;01m%s\u001b[39;00m\u001b[38;5;124m`, must be a value less than or equal to \u001b[39m\u001b[38;5;124m\"\u001b[39m\n\u001b[0;32m    894\u001b[0m         \u001b[38;5;124m\"\u001b[39m\u001b[38;5;124m`\u001b[39m\u001b[38;5;132;01m%s\u001b[39;00m\u001b[38;5;124m`\u001b[39m\u001b[38;5;124m\"\u001b[39m \u001b[38;5;241m%\u001b[39m (input_variable_path[\u001b[38;5;241m0\u001b[39m], current_validations[\u001b[38;5;124m\"\u001b[39m\u001b[38;5;124minclusive_maximum\u001b[39m\u001b[38;5;124m\"\u001b[39m])\n\u001b[0;32m    895\u001b[0m     )\n\u001b[0;32m    897\u001b[0m \u001b[38;5;28;01mif\u001b[39;00m (\n\u001b[0;32m    898\u001b[0m     is_json_validation_enabled(\u001b[38;5;124m\"\u001b[39m\u001b[38;5;124mexclusiveMinimum\u001b[39m\u001b[38;5;124m\"\u001b[39m, configuration)\n\u001b[0;32m    899\u001b[0m     \u001b[38;5;129;01mand\u001b[39;00m \u001b[38;5;124m\"\u001b[39m\u001b[38;5;124mexclusive_minimum\u001b[39m\u001b[38;5;124m\"\u001b[39m \u001b[38;5;129;01min\u001b[39;00m current_validations\n\u001b[0;32m    900\u001b[0m     \u001b[38;5;129;01mand\u001b[39;00m min_val \u001b[38;5;241m<\u001b[39m\u001b[38;5;241m=\u001b[39m current_validations[\u001b[38;5;124m\"\u001b[39m\u001b[38;5;124mexclusive_minimum\u001b[39m\u001b[38;5;124m\"\u001b[39m]\n\u001b[0;32m    901\u001b[0m ):\n",
      "\u001b[1;31mTypeError\u001b[0m: '>' not supported between instances of 'str' and 'int'"
     ]
    }
   ],
   "source": [
    "if extracted_authors:\n",
    "    print(f\"Extracted Author from query: {extracted_authors}\")\n",
    "    \n",
    "    # List of authors from vector store metadata (already fetched)\n",
    "    \n",
    "    \n",
    "    # Perform fuzzy matching to find the closest match\n",
    "    matched_authors = fuzzy_match_author(extracted_authors, unique_authors)\n",
    "    \n",
    "    if matched_authors:\n",
    "        # Extract matched author names (ignore the score)\n",
    "        matched_author_names = [match[0] for match in matched_authors]\n",
    "        \n",
    "        print(f\"Matched authors: {matched_author_names[0]}\")\n",
    "        \n",
    "        # Perform metadata filtering in the vector store using the matched author(s)\n",
    "        # Assuming you have a `Pinecone` index connected already\n",
    "        retrieve_from_pinecone(query, matched_author_names)\n",
    "    else:\n",
    "        print(\"No matching authors found.\")\n",
    "else:\n",
    "    print(\"No author found in the query.\")"
   ]
  },
  {
   "cell_type": "code",
   "execution_count": 69,
   "metadata": {},
   "outputs": [
    {
     "name": "stdout",
     "output_type": "stream",
     "text": [
      "Extracted Author from query: Yuexi Du\n",
      "Matched authors: ['Yuexi Du']\n"
     ]
    },
    {
     "ename": "TypeError",
     "evalue": "'>' not supported between instances of 'str' and 'int'",
     "output_type": "error",
     "traceback": [
      "\u001b[1;31m---------------------------------------------------------------------------\u001b[0m",
      "\u001b[1;31mTypeError\u001b[0m                                 Traceback (most recent call last)",
      "Cell \u001b[1;32mIn[69], line 57\u001b[0m\n\u001b[0;32m     53\u001b[0m     \u001b[38;5;28mprint\u001b[39m(\u001b[38;5;124mf\u001b[39m\u001b[38;5;124m\"\u001b[39m\u001b[38;5;124mMatched authors: \u001b[39m\u001b[38;5;132;01m{\u001b[39;00mmatched_author_names\u001b[38;5;132;01m}\u001b[39;00m\u001b[38;5;124m\"\u001b[39m)\n\u001b[0;32m     55\u001b[0m     \u001b[38;5;66;03m# Perform metadata filtering in the vector store using the matched author(s)\u001b[39;00m\n\u001b[0;32m     56\u001b[0m     \u001b[38;5;66;03m# Pass the matched_author_names as a list\u001b[39;00m\n\u001b[1;32m---> 57\u001b[0m     \u001b[43mretrieve_from_pinecone\u001b[49m\u001b[43m(\u001b[49m\u001b[43mquery\u001b[49m\u001b[43m,\u001b[49m\u001b[43m \u001b[49m\u001b[43mmatched_author_names\u001b[49m\u001b[43m)\u001b[49m\n\u001b[0;32m     58\u001b[0m \u001b[38;5;28;01melse\u001b[39;00m:\n\u001b[0;32m     59\u001b[0m     \u001b[38;5;28mprint\u001b[39m(\u001b[38;5;124m\"\u001b[39m\u001b[38;5;124mNo matching authors found.\u001b[39m\u001b[38;5;124m\"\u001b[39m)\n",
      "Cell \u001b[1;32mIn[69], line 20\u001b[0m, in \u001b[0;36mretrieve_from_pinecone\u001b[1;34m(query_text, top_k, author_name)\u001b[0m\n\u001b[0;32m     15\u001b[0m     metadata_filter \u001b[38;5;241m=\u001b[39m {\n\u001b[0;32m     16\u001b[0m         \u001b[38;5;124m\"\u001b[39m\u001b[38;5;124mAuthor\u001b[39m\u001b[38;5;124m\"\u001b[39m: {\u001b[38;5;124m\"\u001b[39m\u001b[38;5;124m$in\u001b[39m\u001b[38;5;124m\"\u001b[39m: author_name}  \u001b[38;5;66;03m# Filter using the $in operator for the author name(s)\u001b[39;00m\n\u001b[0;32m     17\u001b[0m     }\n\u001b[0;32m     19\u001b[0m \u001b[38;5;66;03m# Perform similarity search in Pinecone with metadata filtering\u001b[39;00m\n\u001b[1;32m---> 20\u001b[0m results \u001b[38;5;241m=\u001b[39m \u001b[43mindex\u001b[49m\u001b[38;5;241;43m.\u001b[39;49m\u001b[43mquery\u001b[49m\u001b[43m(\u001b[49m\n\u001b[0;32m     21\u001b[0m \u001b[43m    \u001b[49m\u001b[43mvector\u001b[49m\u001b[38;5;241;43m=\u001b[39;49m\u001b[43mquery_embedding\u001b[49m\u001b[43m,\u001b[49m\n\u001b[0;32m     22\u001b[0m \u001b[43m    \u001b[49m\u001b[43mtop_k\u001b[49m\u001b[38;5;241;43m=\u001b[39;49m\u001b[43mtop_k\u001b[49m\u001b[43m,\u001b[49m\n\u001b[0;32m     23\u001b[0m \u001b[43m    \u001b[49m\u001b[43minclude_values\u001b[49m\u001b[38;5;241;43m=\u001b[39;49m\u001b[38;5;28;43;01mTrue\u001b[39;49;00m\u001b[43m,\u001b[49m\n\u001b[0;32m     24\u001b[0m \u001b[43m    \u001b[49m\u001b[43minclude_metadata\u001b[49m\u001b[38;5;241;43m=\u001b[39;49m\u001b[38;5;28;43;01mTrue\u001b[39;49;00m\u001b[43m,\u001b[49m\n\u001b[0;32m     25\u001b[0m \u001b[43m    \u001b[49m\u001b[38;5;28;43mfilter\u001b[39;49m\u001b[38;5;241;43m=\u001b[39;49m\u001b[43mmetadata_filter\u001b[49m\u001b[43m  \u001b[49m\u001b[38;5;66;43;03m# Apply the metadata filter if it exists\u001b[39;49;00m\n\u001b[0;32m     26\u001b[0m \u001b[43m\u001b[49m\u001b[43m)\u001b[49m\n\u001b[0;32m     28\u001b[0m \u001b[38;5;66;03m# Display the results\u001b[39;00m\n\u001b[0;32m     29\u001b[0m \u001b[38;5;28mprint\u001b[39m(\u001b[38;5;124mf\u001b[39m\u001b[38;5;124m\"\u001b[39m\u001b[38;5;124mTop \u001b[39m\u001b[38;5;132;01m{\u001b[39;00mtop_k\u001b[38;5;132;01m}\u001b[39;00m\u001b[38;5;124m results for the query \u001b[39m\u001b[38;5;124m'\u001b[39m\u001b[38;5;132;01m{\u001b[39;00mquery_text\u001b[38;5;132;01m}\u001b[39;00m\u001b[38;5;124m'\u001b[39m\u001b[38;5;124m with author filtering:\u001b[39m\u001b[38;5;124m\"\u001b[39m)\n",
      "File \u001b[1;32mc:\\Users\\ashut\\AppData\\Local\\Programs\\Python\\Python310\\lib\\site-packages\\pinecone\\utils\\error_handling.py:11\u001b[0m, in \u001b[0;36mvalidate_and_convert_errors.<locals>.inner_func\u001b[1;34m(*args, **kwargs)\u001b[0m\n\u001b[0;32m      8\u001b[0m \u001b[38;5;129m@wraps\u001b[39m(func)\n\u001b[0;32m      9\u001b[0m \u001b[38;5;28;01mdef\u001b[39;00m \u001b[38;5;21minner_func\u001b[39m(\u001b[38;5;241m*\u001b[39margs, \u001b[38;5;241m*\u001b[39m\u001b[38;5;241m*\u001b[39mkwargs):\n\u001b[0;32m     10\u001b[0m     \u001b[38;5;28;01mtry\u001b[39;00m:\n\u001b[1;32m---> 11\u001b[0m         \u001b[38;5;28;01mreturn\u001b[39;00m func(\u001b[38;5;241m*\u001b[39margs, \u001b[38;5;241m*\u001b[39m\u001b[38;5;241m*\u001b[39mkwargs)\n\u001b[0;32m     12\u001b[0m     \u001b[38;5;28;01mexcept\u001b[39;00m MaxRetryError \u001b[38;5;28;01mas\u001b[39;00m e:\n\u001b[0;32m     13\u001b[0m         \u001b[38;5;28;01mif\u001b[39;00m \u001b[38;5;28misinstance\u001b[39m(e\u001b[38;5;241m.\u001b[39mreason, ProtocolError):\n",
      "File \u001b[1;32mc:\\Users\\ashut\\AppData\\Local\\Programs\\Python\\Python310\\lib\\site-packages\\pinecone\\data\\index.py:430\u001b[0m, in \u001b[0;36mIndex.query\u001b[1;34m(self, top_k, vector, id, namespace, filter, include_values, include_metadata, sparse_vector, *args, **kwargs)\u001b[0m\n\u001b[0;32m    415\u001b[0m sparse_vector \u001b[38;5;241m=\u001b[39m \u001b[38;5;28mself\u001b[39m\u001b[38;5;241m.\u001b[39m_parse_sparse_values_arg(sparse_vector)\n\u001b[0;32m    416\u001b[0m args_dict \u001b[38;5;241m=\u001b[39m \u001b[38;5;28mself\u001b[39m\u001b[38;5;241m.\u001b[39m_parse_non_empty_args(\n\u001b[0;32m    417\u001b[0m     [\n\u001b[0;32m    418\u001b[0m         (\u001b[38;5;124m\"\u001b[39m\u001b[38;5;124mvector\u001b[39m\u001b[38;5;124m\"\u001b[39m, vector),\n\u001b[1;32m   (...)\u001b[0m\n\u001b[0;32m    427\u001b[0m     ]\n\u001b[0;32m    428\u001b[0m )\n\u001b[0;32m    429\u001b[0m response \u001b[38;5;241m=\u001b[39m \u001b[38;5;28mself\u001b[39m\u001b[38;5;241m.\u001b[39m_vector_api\u001b[38;5;241m.\u001b[39mquery(\n\u001b[1;32m--> 430\u001b[0m     QueryRequest(\n\u001b[0;32m    431\u001b[0m         \u001b[38;5;241m*\u001b[39m\u001b[38;5;241m*\u001b[39margs_dict,\n\u001b[0;32m    432\u001b[0m         _check_type\u001b[38;5;241m=\u001b[39m_check_type,\n\u001b[0;32m    433\u001b[0m         \u001b[38;5;241m*\u001b[39m\u001b[38;5;241m*\u001b[39m{k: v \u001b[38;5;28;01mfor\u001b[39;00m k, v \u001b[38;5;129;01min\u001b[39;00m kwargs\u001b[38;5;241m.\u001b[39mitems() \u001b[38;5;28;01mif\u001b[39;00m k \u001b[38;5;129;01mnot\u001b[39;00m \u001b[38;5;129;01min\u001b[39;00m _OPENAPI_ENDPOINT_PARAMS},\n\u001b[0;32m    434\u001b[0m     ),\n\u001b[0;32m    435\u001b[0m     \u001b[38;5;241m*\u001b[39m\u001b[38;5;241m*\u001b[39m{k: v \u001b[38;5;28;01mfor\u001b[39;00m k, v \u001b[38;5;129;01min\u001b[39;00m kwargs\u001b[38;5;241m.\u001b[39mitems() \u001b[38;5;28;01mif\u001b[39;00m k \u001b[38;5;129;01min\u001b[39;00m _OPENAPI_ENDPOINT_PARAMS},\n\u001b[0;32m    436\u001b[0m )\n\u001b[0;32m    437\u001b[0m \u001b[38;5;28;01mreturn\u001b[39;00m parse_query_response(response)\n",
      "File \u001b[1;32mc:\\Users\\ashut\\AppData\\Local\\Programs\\Python\\Python310\\lib\\site-packages\\pinecone\\core\\openapi\\shared\\model_utils.py:33\u001b[0m, in \u001b[0;36mconvert_js_args_to_python_args.<locals>.wrapped_init\u001b[1;34m(_self, *args, **kwargs)\u001b[0m\n\u001b[0;32m     31\u001b[0m \u001b[38;5;28;01mif\u001b[39;00m spec_property_naming:\n\u001b[0;32m     32\u001b[0m     kwargs \u001b[38;5;241m=\u001b[39m change_keys_js_to_python(kwargs, _self \u001b[38;5;28;01mif\u001b[39;00m \u001b[38;5;28misinstance\u001b[39m(_self, \u001b[38;5;28mtype\u001b[39m) \u001b[38;5;28;01melse\u001b[39;00m _self\u001b[38;5;241m.\u001b[39m\u001b[38;5;18m__class__\u001b[39m)\n\u001b[1;32m---> 33\u001b[0m \u001b[38;5;28;01mreturn\u001b[39;00m fn(_self, \u001b[38;5;241m*\u001b[39margs, \u001b[38;5;241m*\u001b[39m\u001b[38;5;241m*\u001b[39mkwargs)\n",
      "File \u001b[1;32mc:\\Users\\ashut\\AppData\\Local\\Programs\\Python\\Python310\\lib\\site-packages\\pinecone\\core\\openapi\\data\\model\\query_request.py:313\u001b[0m, in \u001b[0;36mQueryRequest.__init__\u001b[1;34m(self, top_k, *args, **kwargs)\u001b[0m\n\u001b[0;32m    310\u001b[0m \u001b[38;5;28mself\u001b[39m\u001b[38;5;241m.\u001b[39m_configuration \u001b[38;5;241m=\u001b[39m _configuration\n\u001b[0;32m    311\u001b[0m \u001b[38;5;28mself\u001b[39m\u001b[38;5;241m.\u001b[39m_visited_composed_classes \u001b[38;5;241m=\u001b[39m _visited_composed_classes \u001b[38;5;241m+\u001b[39m (\u001b[38;5;28mself\u001b[39m\u001b[38;5;241m.\u001b[39m\u001b[38;5;18m__class__\u001b[39m,)\n\u001b[1;32m--> 313\u001b[0m \u001b[38;5;28;43mself\u001b[39;49m\u001b[38;5;241;43m.\u001b[39;49m\u001b[43mtop_k\u001b[49m \u001b[38;5;241m=\u001b[39m top_k\n\u001b[0;32m    314\u001b[0m \u001b[38;5;28;01mfor\u001b[39;00m var_name, var_value \u001b[38;5;129;01min\u001b[39;00m kwargs\u001b[38;5;241m.\u001b[39mitems():\n\u001b[0;32m    315\u001b[0m     \u001b[38;5;28;01mif\u001b[39;00m (\n\u001b[0;32m    316\u001b[0m         var_name \u001b[38;5;129;01mnot\u001b[39;00m \u001b[38;5;129;01min\u001b[39;00m \u001b[38;5;28mself\u001b[39m\u001b[38;5;241m.\u001b[39mattribute_map\n\u001b[0;32m    317\u001b[0m         \u001b[38;5;129;01mand\u001b[39;00m \u001b[38;5;28mself\u001b[39m\u001b[38;5;241m.\u001b[39m_configuration \u001b[38;5;129;01mis\u001b[39;00m \u001b[38;5;129;01mnot\u001b[39;00m \u001b[38;5;28;01mNone\u001b[39;00m\n\u001b[1;32m   (...)\u001b[0m\n\u001b[0;32m    320\u001b[0m     ):\n\u001b[0;32m    321\u001b[0m         \u001b[38;5;66;03m# discard variable.\u001b[39;00m\n",
      "File \u001b[1;32mc:\\Users\\ashut\\AppData\\Local\\Programs\\Python\\Python310\\lib\\site-packages\\pinecone\\core\\openapi\\shared\\model_utils.py:156\u001b[0m, in \u001b[0;36mOpenApiModel.__setattr__\u001b[1;34m(self, attr, value)\u001b[0m\n\u001b[0;32m    154\u001b[0m \u001b[38;5;28;01mdef\u001b[39;00m \u001b[38;5;21m__setattr__\u001b[39m(\u001b[38;5;28mself\u001b[39m, attr, value):\n\u001b[0;32m    155\u001b[0m \u001b[38;5;250m    \u001b[39m\u001b[38;5;124;03m\"\"\"set the value of an attribute using dot notation: `instance.attr = val`\"\"\"\u001b[39;00m\n\u001b[1;32m--> 156\u001b[0m     \u001b[38;5;28;43mself\u001b[39;49m\u001b[43m[\u001b[49m\u001b[43mattr\u001b[49m\u001b[43m]\u001b[49m \u001b[38;5;241m=\u001b[39m value\n",
      "File \u001b[1;32mc:\\Users\\ashut\\AppData\\Local\\Programs\\Python\\Python310\\lib\\site-packages\\pinecone\\core\\openapi\\shared\\model_utils.py:432\u001b[0m, in \u001b[0;36mModelNormal.__setitem__\u001b[1;34m(self, name, value)\u001b[0m\n\u001b[0;32m    429\u001b[0m     \u001b[38;5;28mself\u001b[39m\u001b[38;5;241m.\u001b[39m\u001b[38;5;18m__dict__\u001b[39m[name] \u001b[38;5;241m=\u001b[39m value\n\u001b[0;32m    430\u001b[0m     \u001b[38;5;28;01mreturn\u001b[39;00m\n\u001b[1;32m--> 432\u001b[0m \u001b[38;5;28;43mself\u001b[39;49m\u001b[38;5;241;43m.\u001b[39;49m\u001b[43mset_attribute\u001b[49m\u001b[43m(\u001b[49m\u001b[43mname\u001b[49m\u001b[43m,\u001b[49m\u001b[43m \u001b[49m\u001b[43mvalue\u001b[49m\u001b[43m)\u001b[49m\n",
      "File \u001b[1;32mc:\\Users\\ashut\\AppData\\Local\\Programs\\Python\\Python310\\lib\\site-packages\\pinecone\\core\\openapi\\shared\\model_utils.py:143\u001b[0m, in \u001b[0;36mOpenApiModel.set_attribute\u001b[1;34m(self, name, value)\u001b[0m\n\u001b[0;32m    141\u001b[0m     check_allowed_values(\u001b[38;5;28mself\u001b[39m\u001b[38;5;241m.\u001b[39mallowed_values, (name,), value)\n\u001b[0;32m    142\u001b[0m \u001b[38;5;28;01mif\u001b[39;00m (name,) \u001b[38;5;129;01min\u001b[39;00m \u001b[38;5;28mself\u001b[39m\u001b[38;5;241m.\u001b[39mvalidations:\n\u001b[1;32m--> 143\u001b[0m     \u001b[43mcheck_validations\u001b[49m\u001b[43m(\u001b[49m\u001b[38;5;28;43mself\u001b[39;49m\u001b[38;5;241;43m.\u001b[39;49m\u001b[43mvalidations\u001b[49m\u001b[43m,\u001b[49m\u001b[43m \u001b[49m\u001b[43m(\u001b[49m\u001b[43mname\u001b[49m\u001b[43m,\u001b[49m\u001b[43m)\u001b[49m\u001b[43m,\u001b[49m\u001b[43m \u001b[49m\u001b[43mvalue\u001b[49m\u001b[43m,\u001b[49m\u001b[43m \u001b[49m\u001b[38;5;28;43mself\u001b[39;49m\u001b[38;5;241;43m.\u001b[39;49m\u001b[43m_configuration\u001b[49m\u001b[43m)\u001b[49m\n\u001b[0;32m    144\u001b[0m \u001b[38;5;28mself\u001b[39m\u001b[38;5;241m.\u001b[39m\u001b[38;5;18m__dict__\u001b[39m[\u001b[38;5;124m\"\u001b[39m\u001b[38;5;124m_data_store\u001b[39m\u001b[38;5;124m\"\u001b[39m][name] \u001b[38;5;241m=\u001b[39m value\n",
      "File \u001b[1;32mc:\\Users\\ashut\\AppData\\Local\\Programs\\Python\\Python310\\lib\\site-packages\\pinecone\\core\\openapi\\shared\\model_utils.py:890\u001b[0m, in \u001b[0;36mcheck_validations\u001b[1;34m(validations, input_variable_path, input_values, configuration)\u001b[0m\n\u001b[0;32m    877\u001b[0m \u001b[38;5;28;01mif\u001b[39;00m (\n\u001b[0;32m    878\u001b[0m     is_json_validation_enabled(\u001b[38;5;124m\"\u001b[39m\u001b[38;5;124mexclusiveMaximum\u001b[39m\u001b[38;5;124m\"\u001b[39m, configuration)\n\u001b[0;32m    879\u001b[0m     \u001b[38;5;129;01mand\u001b[39;00m \u001b[38;5;124m\"\u001b[39m\u001b[38;5;124mexclusive_maximum\u001b[39m\u001b[38;5;124m\"\u001b[39m \u001b[38;5;129;01min\u001b[39;00m current_validations\n\u001b[0;32m    880\u001b[0m     \u001b[38;5;129;01mand\u001b[39;00m max_val \u001b[38;5;241m>\u001b[39m\u001b[38;5;241m=\u001b[39m current_validations[\u001b[38;5;124m\"\u001b[39m\u001b[38;5;124mexclusive_maximum\u001b[39m\u001b[38;5;124m\"\u001b[39m]\n\u001b[0;32m    881\u001b[0m ):\n\u001b[0;32m    882\u001b[0m     \u001b[38;5;28;01mraise\u001b[39;00m PineconeApiValueError(\n\u001b[0;32m    883\u001b[0m         \u001b[38;5;124m\"\u001b[39m\u001b[38;5;124mInvalid value for `\u001b[39m\u001b[38;5;132;01m%s\u001b[39;00m\u001b[38;5;124m`, must be a value less than `\u001b[39m\u001b[38;5;132;01m%s\u001b[39;00m\u001b[38;5;124m`\u001b[39m\u001b[38;5;124m\"\u001b[39m\n\u001b[0;32m    884\u001b[0m         \u001b[38;5;241m%\u001b[39m (input_variable_path[\u001b[38;5;241m0\u001b[39m], current_validations[\u001b[38;5;124m\"\u001b[39m\u001b[38;5;124mexclusive_maximum\u001b[39m\u001b[38;5;124m\"\u001b[39m])\n\u001b[0;32m    885\u001b[0m     )\n\u001b[0;32m    887\u001b[0m \u001b[38;5;28;01mif\u001b[39;00m (\n\u001b[0;32m    888\u001b[0m     is_json_validation_enabled(\u001b[38;5;124m\"\u001b[39m\u001b[38;5;124mmaximum\u001b[39m\u001b[38;5;124m\"\u001b[39m, configuration)\n\u001b[0;32m    889\u001b[0m     \u001b[38;5;129;01mand\u001b[39;00m \u001b[38;5;124m\"\u001b[39m\u001b[38;5;124minclusive_maximum\u001b[39m\u001b[38;5;124m\"\u001b[39m \u001b[38;5;129;01min\u001b[39;00m current_validations\n\u001b[1;32m--> 890\u001b[0m     \u001b[38;5;129;01mand\u001b[39;00m \u001b[43mmax_val\u001b[49m\u001b[43m \u001b[49m\u001b[38;5;241;43m>\u001b[39;49m\u001b[43m \u001b[49m\u001b[43mcurrent_validations\u001b[49m\u001b[43m[\u001b[49m\u001b[38;5;124;43m\"\u001b[39;49m\u001b[38;5;124;43minclusive_maximum\u001b[39;49m\u001b[38;5;124;43m\"\u001b[39;49m\u001b[43m]\u001b[49m\n\u001b[0;32m    891\u001b[0m ):\n\u001b[0;32m    892\u001b[0m     \u001b[38;5;28;01mraise\u001b[39;00m PineconeApiValueError(\n\u001b[0;32m    893\u001b[0m         \u001b[38;5;124m\"\u001b[39m\u001b[38;5;124mInvalid value for `\u001b[39m\u001b[38;5;132;01m%s\u001b[39;00m\u001b[38;5;124m`, must be a value less than or equal to \u001b[39m\u001b[38;5;124m\"\u001b[39m\n\u001b[0;32m    894\u001b[0m         \u001b[38;5;124m\"\u001b[39m\u001b[38;5;124m`\u001b[39m\u001b[38;5;132;01m%s\u001b[39;00m\u001b[38;5;124m`\u001b[39m\u001b[38;5;124m\"\u001b[39m \u001b[38;5;241m%\u001b[39m (input_variable_path[\u001b[38;5;241m0\u001b[39m], current_validations[\u001b[38;5;124m\"\u001b[39m\u001b[38;5;124minclusive_maximum\u001b[39m\u001b[38;5;124m\"\u001b[39m])\n\u001b[0;32m    895\u001b[0m     )\n\u001b[0;32m    897\u001b[0m \u001b[38;5;28;01mif\u001b[39;00m (\n\u001b[0;32m    898\u001b[0m     is_json_validation_enabled(\u001b[38;5;124m\"\u001b[39m\u001b[38;5;124mexclusiveMinimum\u001b[39m\u001b[38;5;124m\"\u001b[39m, configuration)\n\u001b[0;32m    899\u001b[0m     \u001b[38;5;129;01mand\u001b[39;00m \u001b[38;5;124m\"\u001b[39m\u001b[38;5;124mexclusive_minimum\u001b[39m\u001b[38;5;124m\"\u001b[39m \u001b[38;5;129;01min\u001b[39;00m current_validations\n\u001b[0;32m    900\u001b[0m     \u001b[38;5;129;01mand\u001b[39;00m min_val \u001b[38;5;241m<\u001b[39m\u001b[38;5;241m=\u001b[39m current_validations[\u001b[38;5;124m\"\u001b[39m\u001b[38;5;124mexclusive_minimum\u001b[39m\u001b[38;5;124m\"\u001b[39m]\n\u001b[0;32m    901\u001b[0m ):\n",
      "\u001b[1;31mTypeError\u001b[0m: '>' not supported between instances of 'str' and 'int'"
     ]
    }
   ],
   "source": [
    "def retrieve_from_pinecone(query_text: str, top_k=5, author_name: list = None):  # Expect a list for author_name\n",
    "    # Initialize Pinecone\n",
    "    pc = Pinecone(api_key=api_key)  # Update with your API key and environment\n",
    "    index_name = 'embeddings5'\n",
    "\n",
    "    # Connect to the existing index\n",
    "    index = pc.Index(index_name)\n",
    "\n",
    "    # Embed the query text using the same model used for upserts\n",
    "    query_embedding = model.encode(query_text).tolist()  # Encode query into embedding\n",
    "\n",
    "    # Build the metadata filter if an author name is provided\n",
    "    metadata_filter = None\n",
    "    if author_name and isinstance(author_name, list):  # Ensure it's a list\n",
    "        metadata_filter = {\n",
    "            \"Author\": {\"$in\": author_name}  # Filter using the $in operator for the author name(s)\n",
    "        }\n",
    "\n",
    "    # Perform similarity search in Pinecone with metadata filtering\n",
    "    results = index.query(\n",
    "        vector=query_embedding,\n",
    "        top_k=top_k,\n",
    "        include_values=True,\n",
    "        include_metadata=True,\n",
    "        filter=metadata_filter  # Apply the metadata filter if it exists\n",
    "    )\n",
    "\n",
    "    # Display the results\n",
    "    print(f\"Top {top_k} results for the query '{query_text}' with author filtering:\")\n",
    "    for i, match in enumerate(results['matches']):\n",
    "        print(f\"\\nResult {i+1}:\")\n",
    "        print(f\"  - ID: {match['id']}\")\n",
    "        print(f\"  - Score: {match['score']}\")\n",
    "        print(f\"  - Metadata: {match.get('metadata', {})}\")\n",
    "\n",
    "    return results\n",
    "\n",
    "\n",
    "# Example workflow after extracting authors\n",
    "if extracted_authors:\n",
    "    print(f\"Extracted Author from query: {extracted_authors}\")\n",
    "    \n",
    "    # List of authors from vector store metadata (already fetched)\n",
    "    # unique_authors is assumed to be defined\n",
    "\n",
    "    # Perform fuzzy matching to find the closest match\n",
    "    matched_authors = fuzzy_match_author(extracted_authors, unique_authors)\n",
    "    \n",
    "    if matched_authors:\n",
    "        # Extract matched author names (ignore the score)\n",
    "        matched_author_names = [match[0] for match in matched_authors]\n",
    "        \n",
    "        print(f\"Matched authors: {matched_author_names}\")\n",
    "        \n",
    "        # Perform metadata filtering in the vector store using the matched author(s)\n",
    "        # Pass the matched_author_names as a list\n",
    "        retrieve_from_pinecone(query, matched_author_names)\n",
    "    else:\n",
    "        print(\"No matching authors found.\")\n",
    "else:\n",
    "    print(\"No author found in the query.\")"
   ]
  },
  {
   "cell_type": "code",
   "execution_count": 72,
   "metadata": {},
   "outputs": [],
   "source": [
    "import json"
   ]
  },
  {
   "cell_type": "code",
   "execution_count": 84,
   "metadata": {},
   "outputs": [
    {
     "name": "stdout",
     "output_type": "stream",
     "text": [
      "Extracted Author from query: Yuexi Du\n",
      "Matched authors output: [('Yuexi Du', 100)]\n",
      "Type of matched_authors: <class 'list'>\n",
      "Matched authors (only names): [\"Yuexi Du\"]\n",
      "Top 5 results for the query 'give the research paper by published on september' with author filtering:\n",
      "\n",
      "Result 1:\n",
      "  - ID: C:\\QpiAi\\paper_2409.18119.pdf:8:0\n",
      "  - Score: 0.131281778\n",
      "  - Metadata: {'Author': ['Yuexi Du', 'John Onofrey', 'Nicha C. Dvornek'], 'publication_date': '2024-09', 'text': 'Table 4: Ablation of Model Design We ablate different model designs on the EMBED [ 21] BI-RADS\\nprediction task and report balanced accuracy (bACC) and AUC score. The best and second best\\nresults are highlighted in bold and underlined, respectively. Our full method is shaded in gray.\\nMethods EMBED BI-RADS [21]\\nSLA Symm. LV T LV V PEFT-LLMZero-shot Linear Classification Full Fine-tune\\nbACC (%) AUC (%) bACC (%) AUC (%) bACC (%) AUC (%)\\n✓ ✓ ✓ 29.28 71.16 38.71 77.50 30.55 70.69\\n✓ ✓ ✓ 31.03 72.79 39.57 77.39 39.47 76.23\\n✓ ✓ ✓ 27.32 70.18 37.21 77.95 23.78 63.97\\n✓ ✓ ✓ 23.88 62.84 38.96 77.43 22.29 63.77\\n✓ ✓ ✓ ✓ 31.04 74.83 39.75 77.50 40.31 77.36\\nTable 5: Multi-view Ablation We ablate different\\nmulti-view contrastive learning strategies.\\nMethodsEMBED BI-RADS [21]\\nZero-shot Linear Classification Full Fine-tune\\nbACC(%) AUC(%) bACC(%) AUC(%) bACC(%) AUC(%)\\nSame Image 30.48 73.95 39.70 77.73 39.35 76.44\\nIntra-side 30.71 74.21 39.93 77.41 35.17 76.09\\nIntra-study 31.04 74.83 39.75 77.50 40.31 77.36Table 6: Caption Ablation We ablate different\\ntext caption construction strategies.\\nMethodsEMBED BI-RADS [21]\\nZero-shot Linear Classification Full Fine-tune\\nbACC(%) AUC(%) bACC(%) AUC(%) bACC(%) AUC(%)\\nCLIP-style 35.99 77.66 37.74 77.25 24.00 65.35\\nNo Meta Mask 27.19 68.20 36.94 76.33 24.06 64.85\\nStruct. Cap. 31.04 74.83 39.75 77.50 40.31 77.36\\nperforms best in terms of balanced accuracy and AUC with a notable gap. While some of the\\nbaselines outperform our model on either the sensitivity or specificity metric, we note these models\\nare not informative, i.e., they tend to collapse and predict the majority of images to one of the classes.'}\n",
      "\n",
      "Result 2:\n",
      "  - ID: C:\\QpiAi\\paper_2409.18119.pdf:0:2\n",
      "  - Score: 0.126341745\n",
      "  - Metadata: {'Author': ['Yuexi Du', 'John Onofrey', 'Nicha C. Dvornek'], 'publication_date': '2024-09', 'text': 'as breast cancer is one of the most commonly diagnosed cancers globally and a leading cause\\n1This work is also the basis of the overall best solution for the MICCAI 2024 CXR-LT Challenge.\\nPreprint. Under review.arXiv:2409.18119v1  [cs.CV]  26 Sep 2024'}\n",
      "\n",
      "Result 3:\n",
      "  - ID: C:\\QpiAi\\paper_2409.18119.pdf:20:0\n",
      "  - Score: 0.0941655\n",
      "  - Metadata: {'Author': ['Yuexi Du', 'John Onofrey', 'Nicha C. Dvornek'], 'publication_date': '2024-09', 'text': 'Table 14: Linear Classification Bootstrap Results for Balanced Accuracy on EMBED [ 21]We\\nconduct the bootstrap evaluation for the linear classification predicted result of our method on both\\nBI-RADS and density prediction tasks. We sample N= 10,000bootstrapped samples and compute\\nthe average balanced Accuracy (bACC) with the corresponding 95% confidence interval for each\\nsetting. This illustrates the statistical stability of our method.\\nTaskbACC (%)\\n1% 10% 100%\\nEMBED BI-RADS [21] 28.46 [27.12,29.84] 35.11 [33.36,36.86] 39.75 [37.81,41.64]\\nEMBED Density [21] 76.25 [74.88,77.60] 78.11 [73.65,75.66] 78.10 [76.82,79.34]\\nTable 15: Linear Classification Bootstrap Results for AUC on EMBED [ 21]We conduct the\\nbootstrap evaluation for the linear classification predicted result of our method on both BI-RADS and\\ndensity prediction tasks. We sample N= 10,000bootstrapped samples and compute the average\\nAUC with the corresponding 95% confidence interval for each setting. This illustrates the statistical\\nstability of our method.\\nTaskAUC (%)\\n1% 10% 100%\\nEMBED BI-RADS [21] 70.64 [69.56,71.69] 75.98 [75.09,76.87] 77.50 [76.61,78.35]\\nEMBED Density [21] 93.11 [92.70,93.52] 93.62 [93.23,94.00] 93.65 [93.26,94.02]\\nand DICE scores for each threshold and then average them to get mIoU and mDICE. For ROI recall,\\nan ROI is considered successfully predicted when the overlap between the binarized similarity map\\n(with a fixed threshold of 50%) and the ROI is greater than 50%. Our method generally shows a better\\nperformance over the MM-MIL [ 52] model and achieves a recall near 50% without training. We note'}\n",
      "\n",
      "Result 4:\n",
      "  - ID: C:\\QpiAi\\paper_2409.18119.pdf:11:1\n",
      "  - Score: 0.0696358234\n",
      "  - Metadata: {'Author': ['Yuexi Du', 'John Onofrey', 'Nicha C. Dvornek'], 'publication_date': '2024-09', 'text': '[44] Quan Sun, Yuxin Fang, Ledell Wu, Xinlong Wang, and Yue Cao. Eva-clip: Improved training techniques\\nfor clip at scale. arXiv preprint arXiv:2303.15389 , 2023.\\n[45] Quan Sun, Yuxin Fang, Ledell Wu, Xinlong Wang, and Yue Cao. Eva-clip: Improved training techniques\\nfor clip at scale. arXiv preprint arXiv:2303.15389 , 2023.\\n[46] Quan Sun, Jinsheng Wang, Qiying Yu, Yufeng Cui, Fan Zhang, Xiaosong Zhang, and Xinlong Wang.\\nEva-clip-18b: Scaling clip to 18 billion parameters. arXiv preprint arXiv:2402.04252 , 2024.\\n[47] Hyuna Sung, Jacques Ferlay, Rebecca L Siegel, Mathieu Laversanne, Isabelle Soerjomataram, Ahmedin\\nJemal, and Freddie Bray. Global cancer statistics 2020: Globocan estimates of incidence and mortality\\nworldwide for 36 cancers in 185 countries. CA: a cancer journal for clinicians , 71(3):209–249, 2021.\\n[48] Hugo Touvron, Matthieu Cord, Matthijs Douze, Francisco Massa, Alexandre Sablayrolles, and Herve\\nJegou. Training data-efficient image transformers and distillation through attention. In Marina Meila and\\nTong Zhang, editors, Proceedings of the 38th International Conference on Machine Learning , volume 139\\nofProceedings of Machine Learning Research , pages 10347–10357. PMLR, 18–24 Jul 2021.\\n[49] Hugo Touvron, Louis Martin, Kevin Stone, Peter Albert, Amjad Almahairi, Yasmine Babaei, Nikolay\\nBashlykov, Soumya Batra, Prajjwal Bhargava, Shruti Bhosale, et al. Llama 2: Open foundation and\\nfine-tuned chat models. arXiv preprint arXiv:2307.09288 , 2023.\\n[50] Zhongwei Wan, Che Liu, Mi Zhang, Jie Fu, Benyou Wang, Sibo Cheng, Lei Ma, César Quilodrán-\\nCasas, and Rossella Arcucci. Med-unic: Unifying cross-lingual medical vision-language pre-training by'}\n",
      "\n",
      "Result 5:\n",
      "  - ID: C:\\QpiAi\\paper_2409.18119.pdf:20:1\n",
      "  - Score: 0.0676536188\n",
      "  - Metadata: {'Author': ['Yuexi Du', 'John Onofrey', 'Nicha C. Dvornek'], 'publication_date': '2024-09', 'text': 'performance over the MM-MIL [ 52] model and achieves a recall near 50% without training. We note\\nthat the number reported here may look low since this is a parameter-free zero-shot evaluation, and\\nthe ROI in the mammography is generally small compared with the whole image, which makes the\\ntask more challenging.\\nA.10 Performance Statistical Analysis\\nWe further evaluate the stability of the proposed method by bootstrap sampling test set results from\\nlinear classification and report the 95% confidence interval in Tab. 14 and Tab. 15. Notably, our\\nmethod generally shows a small confidence interval, especially for AUC scores. Comparing our\\nresults with confidence interval with the baselines in Tab. 1, we see that there is still a marked\\nimprovement in performance.\\nA.11 Report Construction Template\\nWe provide here the template used to construct our structured image caption during training. We\\ndescribe each segment below, and the keywords wrapped with “{{” and “}}” will be replaced with\\ncorresponding information from the tabular data.\\n1.Procedure reported : {{PROCEDURE}}.\\n2.Reason for procedure : {{SCREENING/DIAGNOSTIC}}.\\n3.Patient info : This patient is {{RACE}}, {{ETHNIC}}, and {{AGE}} years old.\\n4.Image info : This is a {{IMAGE_TYPE}} full-field digital mammogram of the {{SIDE}}\\nbreast with {{VIEW}} view.\\n5.Breast composition : The breast is {{DENSITY_DESC}}.\\n6.Findings : The mammogram shows that {{MASS_DESC}}. The mass is {{SHAPE}} and\\n{{DENSITY}}. A {{DISTRI}} {{SHAPE}} calcification is present.\\n7.Impressions : BI-RADS Category {{BIRADS}}: {{BIRADS_DESC}}.\\n8.Overall Assessment : {{BIRADS_DESC}}'}\n"
     ]
    }
   ],
   "source": [
    "def retrieve_from_pinecone(query_text: str, top_k=5, author_name: list = None):  \n",
    "    # Initialize Pinecone\n",
    "    pc = Pinecone(api_key=api_key)  # Update with your API key and environment\n",
    "    index_name = 'embeddings5'\n",
    "\n",
    "    # Connect to the existing index\n",
    "    index = pc.Index(index_name)\n",
    "\n",
    "    # Embed the query text using the same model used for upserts\n",
    "    query_embedding = model.encode(query_text).tolist()  # Encode query into embedding\n",
    "\n",
    "    # Build the metadata filter if an author name is provided\n",
    "    metadata_filter = None\n",
    "    if author_name and isinstance(author_name, list):  # Ensure it's a list\n",
    "        metadata_filter = {\n",
    "            \"Author\": {\"$in\": author_name}  # Filter using the $in operator for the author name(s)\n",
    "        }\n",
    "\n",
    "    # Perform similarity search in Pinecone with metadata filtering\n",
    "    try:\n",
    "        results = index.query(\n",
    "            vector=query_embedding,\n",
    "            top_k=top_k,\n",
    "            include_values=True,\n",
    "            include_metadata=True,\n",
    "            filter=metadata_filter  # Apply the metadata filter if it exists\n",
    "        )\n",
    "    except Exception as e:\n",
    "        print(f\"Error during Pinecone query: {e}\")\n",
    "        return\n",
    "\n",
    "    # Display the results\n",
    "    print(f\"Top {top_k} results for the query '{query_text}' with author filtering:\")\n",
    "    for i, match in enumerate(results['matches']):\n",
    "        print(f\"\\nResult {i+1}:\")\n",
    "        print(f\"  - ID: {match['id']}\")\n",
    "        print(f\"  - Score: {match['score']}\")\n",
    "        print(f\"  - Metadata: {match.get('metadata', {})}\")\n",
    "\n",
    "    return results\n",
    "\n",
    "# Example workflow after extracting authors\n",
    "if extracted_authors:\n",
    "    print(f\"Extracted Author from query: {extracted_authors}\")\n",
    "    \n",
    "    # List of authors from vector store metadata (already fetched)\n",
    "    # unique_authors is assumed to be defined\n",
    "\n",
    "    # Perform fuzzy matching to find the closest match\n",
    "    matched_authors = fuzzy_match_author(extracted_authors, unique_authors)\n",
    "\n",
    "    print(f\"Matched authors output: {matched_authors}\")  # Debugging print statement\n",
    "    print(f\"Type of matched_authors: {type(matched_authors)}\")\n",
    "\n",
    "    if matched_authors:\n",
    "        # Ensure only author names (strings) are extracted\n",
    "        matched_author_names = [match[0] for match in matched_authors if isinstance(match[0], str)]\n",
    "\n",
    "        print(f\"Matched authors (only names): {json.dumps(matched_author_names)}\")\n",
    "        \n",
    "        # Perform metadata filtering in the vector store using the matched author(s)\n",
    "        results =retrieve_from_pinecone(query, author_name=matched_author_names)\n",
    "    else:\n",
    "        print(\"No matching authors found.\")\n",
    "else:\n",
    "    print(\"No author found in the query.\")"
   ]
  },
  {
   "cell_type": "code",
   "execution_count": 99,
   "metadata": {},
   "outputs": [
    {
     "data": {
      "text/plain": [
       "['C:\\\\QpiAi\\\\paper_2409.18119.pdf:8:0',\n",
       " 'C:\\\\QpiAi\\\\paper_2409.18119.pdf:0:2',\n",
       " 'C:\\\\QpiAi\\\\paper_2409.18119.pdf:20:0',\n",
       " 'C:\\\\QpiAi\\\\paper_2409.18119.pdf:11:1',\n",
       " 'C:\\\\QpiAi\\\\paper_2409.18119.pdf:20:1']"
      ]
     },
     "execution_count": 99,
     "metadata": {},
     "output_type": "execute_result"
    }
   ],
   "source": [
    "[Author['id'] for Author in results['matches']]"
   ]
  },
  {
   "cell_type": "code",
   "execution_count": null,
   "metadata": {},
   "outputs": [],
   "source": []
  },
  {
   "cell_type": "code",
   "execution_count": 100,
   "metadata": {},
   "outputs": [
    {
     "ename": "PineconeApiAttributeError",
     "evalue": "QueryResponse has no attribute '0' at ['['received_data']']",
     "output_type": "error",
     "traceback": [
      "\u001b[1;31m---------------------------------------------------------------------------\u001b[0m",
      "\u001b[1;31mPineconeApiAttributeError\u001b[0m                 Traceback (most recent call last)",
      "Cell \u001b[1;32mIn[100], line 1\u001b[0m\n\u001b[1;32m----> 1\u001b[0m context_text \u001b[38;5;241m=\u001b[39m \u001b[38;5;124m\"\u001b[39m\u001b[38;5;130;01m\\n\u001b[39;00m\u001b[38;5;130;01m\\n\u001b[39;00m\u001b[38;5;124m---\u001b[39m\u001b[38;5;130;01m\\n\u001b[39;00m\u001b[38;5;130;01m\\n\u001b[39;00m\u001b[38;5;124m\"\u001b[39m\u001b[38;5;241m.\u001b[39mjoin([doc\u001b[38;5;241m.\u001b[39mpage_content \u001b[38;5;28;01mfor\u001b[39;00m doc, _score \u001b[38;5;129;01min\u001b[39;00m results])\n",
      "Cell \u001b[1;32mIn[100], line 1\u001b[0m, in \u001b[0;36m<listcomp>\u001b[1;34m(.0)\u001b[0m\n\u001b[1;32m----> 1\u001b[0m context_text \u001b[38;5;241m=\u001b[39m \u001b[38;5;124m\"\u001b[39m\u001b[38;5;130;01m\\n\u001b[39;00m\u001b[38;5;130;01m\\n\u001b[39;00m\u001b[38;5;124m---\u001b[39m\u001b[38;5;130;01m\\n\u001b[39;00m\u001b[38;5;130;01m\\n\u001b[39;00m\u001b[38;5;124m\"\u001b[39m\u001b[38;5;241m.\u001b[39mjoin([doc\u001b[38;5;241m.\u001b[39mpage_content \u001b[38;5;28;01mfor\u001b[39;00m doc, _score \u001b[38;5;129;01min\u001b[39;00m results])\n",
      "File \u001b[1;32mc:\\Users\\ashut\\AppData\\Local\\Programs\\Python\\Python310\\lib\\site-packages\\pinecone\\core\\openapi\\shared\\model_utils.py:446\u001b[0m, in \u001b[0;36mModelNormal.__getitem__\u001b[1;34m(self, name)\u001b[0m\n\u001b[0;32m    443\u001b[0m \u001b[38;5;28;01mif\u001b[39;00m name \u001b[38;5;129;01min\u001b[39;00m \u001b[38;5;28mself\u001b[39m:\n\u001b[0;32m    444\u001b[0m     \u001b[38;5;28;01mreturn\u001b[39;00m \u001b[38;5;28mself\u001b[39m\u001b[38;5;241m.\u001b[39mget(name)\n\u001b[1;32m--> 446\u001b[0m \u001b[38;5;28;01mraise\u001b[39;00m PineconeApiAttributeError(\n\u001b[0;32m    447\u001b[0m     \u001b[38;5;124m\"\u001b[39m\u001b[38;5;132;01m{0}\u001b[39;00m\u001b[38;5;124m has no attribute \u001b[39m\u001b[38;5;124m'\u001b[39m\u001b[38;5;132;01m{1}\u001b[39;00m\u001b[38;5;124m'\u001b[39m\u001b[38;5;124m\"\u001b[39m\u001b[38;5;241m.\u001b[39mformat(\u001b[38;5;28mtype\u001b[39m(\u001b[38;5;28mself\u001b[39m)\u001b[38;5;241m.\u001b[39m\u001b[38;5;18m__name__\u001b[39m, name), [e \u001b[38;5;28;01mfor\u001b[39;00m e \u001b[38;5;129;01min\u001b[39;00m [\u001b[38;5;28mself\u001b[39m\u001b[38;5;241m.\u001b[39m_path_to_item, name] \u001b[38;5;28;01mif\u001b[39;00m e]\n\u001b[0;32m    448\u001b[0m )\n",
      "\u001b[1;31mPineconeApiAttributeError\u001b[0m: QueryResponse has no attribute '0' at ['['received_data']']"
     ]
    }
   ],
   "source": [
    "context_text = \"\\n\\n---\\n\\n\".join([doc.page_content for doc, _score in results])"
   ]
  }
 ],
 "metadata": {
  "kernelspec": {
   "display_name": "Python 3",
   "language": "python",
   "name": "python3"
  },
  "language_info": {
   "codemirror_mode": {
    "name": "ipython",
    "version": 3
   },
   "file_extension": ".py",
   "mimetype": "text/x-python",
   "name": "python",
   "nbconvert_exporter": "python",
   "pygments_lexer": "ipython3",
   "version": "3.10.0"
  }
 },
 "nbformat": 4,
 "nbformat_minor": 2
}
